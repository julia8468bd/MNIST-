{
 "cells": [
  {
   "cell_type": "markdown",
   "metadata": {},
   "source": [
    "### Outline："
   ]
  },
  {
   "cell_type": "markdown",
   "metadata": {},
   "source": [
    "這次總共訓練了4個神經網路：\n",
    "\n",
    "第一個神經網路用最原始loss function使用mse，激活函數使用sigmoid\n",
    "\n",
    "第二個神經網路loss function換成適合多分類問題的cross entropy\n",
    "\n",
    "第三個神經網路除了loss function換成適合多分類問題的cross entropy外，將激活函數換成鼎鼎大名的relu\n",
    "\n",
    "第四個神經網路為了防止overfitting的問題，加入了Dropout跟early stopping"
   ]
  },
  {
   "cell_type": "code",
   "execution_count": 1,
   "metadata": {},
   "outputs": [],
   "source": [
    "import numpy as np #方便各種數字、矩陣計算\n",
    "\n",
    "import matplotlib.pyplot as plt #方便繪圖(點圖、直方圖...等)\n",
    "%matplotlib inline\n",
    "\n",
    "import pandas as pd #方便資料分析(資料表格化、合併...等)"
   ]
  },
  {
   "cell_type": "code",
   "execution_count": 2,
   "metadata": {},
   "outputs": [
    {
     "name": "stderr",
     "output_type": "stream",
     "text": [
      "Using TensorFlow backend.\n"
     ]
    },
    {
     "name": "stdout",
     "output_type": "stream",
     "text": [
      "GPU Finished..............................\n"
     ]
    }
   ],
   "source": [
    "import os\n",
    "import tensorflow as tf\n",
    "import keras\n",
    "from keras.backend import set_session\n",
    "\n",
    "def create_session(gpu_id='0', pp_mem_frac=None):\n",
    "\n",
    "    tf.reset_default_graph()\n",
    "    os.environ[\"CUDA_VISIBLE_DEVICES\"] = gpu_id # can multiple?\n",
    "    with tf.device('/gpu:' + gpu_id):\n",
    "        config = tf.ConfigProto()\n",
    "        config.gpu_options.allow_growth = True\n",
    "        if pp_mem_frac is not None:\n",
    "            config.gpu_options.per_process_gpu_memory_fraction=pp_mem_frac\n",
    "        session = tf.Session(config = config)\n",
    "    return session\n",
    "gpu_id = '0'\n",
    "sess = create_session(gpu_id)\n",
    "set_session(sess)\n",
    "print(\"GPU Finished..............................\")"
   ]
  },
  {
   "cell_type": "code",
   "execution_count": 3,
   "metadata": {},
   "outputs": [],
   "source": [
    "import keras"
   ]
  },
  {
   "cell_type": "markdown",
   "metadata": {},
   "source": [
    "### 從keras讀入mnist"
   ]
  },
  {
   "cell_type": "code",
   "execution_count": 4,
   "metadata": {},
   "outputs": [],
   "source": [
    "from keras.datasets import mnist"
   ]
  },
  {
   "cell_type": "code",
   "execution_count": 5,
   "metadata": {},
   "outputs": [],
   "source": [
    "(x_train, y_train), (x_test, y_test) = mnist.load_data()"
   ]
  },
  {
   "cell_type": "code",
   "execution_count": 6,
   "metadata": {},
   "outputs": [
    {
     "data": {
      "text/plain": [
       "Int64Index([    3,     6,     8,    14,    23,    24,    40,    59,    67,\n",
       "               70,\n",
       "            ...\n",
       "            59902, 59912, 59919, 59932, 59954, 59958, 59965, 59979, 59984,\n",
       "            59994],\n",
       "           dtype='int64', length=6742)"
      ]
     },
     "execution_count": 6,
     "metadata": {},
     "output_type": "execute_result"
    }
   ],
   "source": [
    "y = pd.DataFrame(y_train)\n",
    "y[y_train == 1].index"
   ]
  },
  {
   "cell_type": "markdown",
   "metadata": {},
   "source": [
    "### 輸入、輸出資料整理"
   ]
  },
  {
   "cell_type": "code",
   "execution_count": 7,
   "metadata": {},
   "outputs": [],
   "source": [
    "x_train = x_train.reshape(60000, 784)\n",
    "x_test = x_test.reshape(10000, 784)"
   ]
  },
  {
   "cell_type": "markdown",
   "metadata": {},
   "source": [
    "### 輸出做one-hot encoding"
   ]
  },
  {
   "cell_type": "code",
   "execution_count": 8,
   "metadata": {},
   "outputs": [],
   "source": [
    "from keras.utils import np_utils"
   ]
  },
  {
   "cell_type": "code",
   "execution_count": 9,
   "metadata": {},
   "outputs": [],
   "source": [
    "y_train = np_utils.to_categorical(y_train ,10)\n",
    "y_test = np_utils.to_categorical(y_test, 10)"
   ]
  },
  {
   "cell_type": "code",
   "execution_count": 10,
   "metadata": {},
   "outputs": [
    {
     "data": {
      "text/plain": [
       "array([0., 0., 0., 0., 0., 0., 0., 1., 0., 0.], dtype=float32)"
      ]
     },
     "execution_count": 10,
     "metadata": {},
     "output_type": "execute_result"
    }
   ],
   "source": [
    "y_train[42]"
   ]
  },
  {
   "cell_type": "code",
   "execution_count": 11,
   "metadata": {},
   "outputs": [
    {
     "data": {
      "text/plain": [
       "<matplotlib.image.AxesImage at 0x2131e65d1d0>"
      ]
     },
     "execution_count": 11,
     "metadata": {},
     "output_type": "execute_result"
    },
    {
     "data": {
      "image/png": "[encoded data removed]",
      "text/plain": [
       "<Figure size 432x288 with 1 Axes>"
      ]
     },
     "metadata": {
      "needs_background": "light"
     },
     "output_type": "display_data"
    }
   ],
   "source": [
    "plt.imshow([[127, 0],[0, 255]],cmap='binary')"
   ]
  },
  {
   "cell_type": "code",
   "execution_count": 12,
   "metadata": {
    "scrolled": false
   },
   "outputs": [
    {
     "data": {
      "text/plain": [
       "array([  0,   0,   0,   0,   0,   0,   0,   0,   0,   0,   0,   0,   0,\n",
       "         0,   0,   0,   0,   0,   0,   0,   0,   0,   0,   0,   0,   0,\n",
       "         0,   0,   0,   0,   0,   0,   0,   0,   0,   0,   0,   0,   0,\n",
       "         0,   0,   0,   0,   0,   0,   0,   0,   0,   0,   0,   0,   0,\n",
       "         0,   0,   0,   0,   0,   0,   0,   0,   0,   0,   0,   0,   0,\n",
       "         0,   0,   0,   0,   0,   0,   0,   0,   0,   0,   0,   0,   0,\n",
       "         0,   0,   0,   0,   0,   0,   0,   0,   0,   0,   0,   0,   0,\n",
       "         0,   0,   0,   0,   0,   0,   0,   0,   0,   0,   0,   0,   0,\n",
       "         0,   0,   0,   0,   0,   0,   0,   0,   0,   0,   0,   0,   0,\n",
       "         0,   0,   0,   0,   0,   0,   0,   0,   0,   0,   0,   0,   0,\n",
       "         0,   0,   0,   0,   0,   0,   0,   0,   0,   0,   0,   0,   0,\n",
       "         0,   0,   0,   0,   0,   0,   0,   0,   0,   3,  18,  18,  18,\n",
       "       126, 136, 175,  26, 166, 255, 247, 127,   0,   0,   0,   0,   0,\n",
       "         0,   0,   0,   0,   0,   0,   0,  30,  36,  94, 154, 170, 253,\n",
       "       253, 253, 253, 253, 225, 172, 253, 242, 195,  64,   0,   0,   0,\n",
       "         0,   0,   0,   0,   0,   0,   0,   0,  49, 238, 253, 253, 253,\n",
       "       253, 253, 253, 253, 253, 251,  93,  82,  82,  56,  39,   0,   0,\n",
       "         0,   0,   0,   0,   0,   0,   0,   0,   0,   0,  18, 219, 253,\n",
       "       253, 253, 253, 253, 198, 182, 247, 241,   0,   0,   0,   0,   0,\n",
       "         0,   0,   0,   0,   0,   0,   0,   0,   0,   0,   0,   0,   0,\n",
       "        80, 156, 107, 253, 253, 205,  11,   0,  43, 154,   0,   0,   0,\n",
       "         0,   0,   0,   0,   0,   0,   0,   0,   0,   0,   0,   0,   0,\n",
       "         0,   0,   0,  14,   1, 154, 253,  90,   0,   0,   0,   0,   0,\n",
       "         0,   0,   0,   0,   0,   0,   0,   0,   0,   0,   0,   0,   0,\n",
       "         0,   0,   0,   0,   0,   0,   0, 139, 253, 190,   2,   0,   0,\n",
       "         0,   0,   0,   0,   0,   0,   0,   0,   0,   0,   0,   0,   0,\n",
       "         0,   0,   0,   0,   0,   0,   0,   0,   0,  11, 190, 253,  70,\n",
       "         0,   0,   0,   0,   0,   0,   0,   0,   0,   0,   0,   0,   0,\n",
       "         0,   0,   0,   0,   0,   0,   0,   0,   0,   0,   0,   0,  35,\n",
       "       241, 225, 160, 108,   1,   0,   0,   0,   0,   0,   0,   0,   0,\n",
       "         0,   0,   0,   0,   0,   0,   0,   0,   0,   0,   0,   0,   0,\n",
       "         0,   0,  81, 240, 253, 253, 119,  25,   0,   0,   0,   0,   0,\n",
       "         0,   0,   0,   0,   0,   0,   0,   0,   0,   0,   0,   0,   0,\n",
       "         0,   0,   0,   0,   0,  45, 186, 253, 253, 150,  27,   0,   0,\n",
       "         0,   0,   0,   0,   0,   0,   0,   0,   0,   0,   0,   0,   0,\n",
       "         0,   0,   0,   0,   0,   0,   0,   0,  16,  93, 252, 253, 187,\n",
       "         0,   0,   0,   0,   0,   0,   0,   0,   0,   0,   0,   0,   0,\n",
       "         0,   0,   0,   0,   0,   0,   0,   0,   0,   0,   0,   0, 249,\n",
       "       253, 249,  64,   0,   0,   0,   0,   0,   0,   0,   0,   0,   0,\n",
       "         0,   0,   0,   0,   0,   0,   0,   0,   0,   0,   0,  46, 130,\n",
       "       183, 253, 253, 207,   2,   0,   0,   0,   0,   0,   0,   0,   0,\n",
       "         0,   0,   0,   0,   0,   0,   0,   0,   0,   0,   0,  39, 148,\n",
       "       229, 253, 253, 253, 250, 182,   0,   0,   0,   0,   0,   0,   0,\n",
       "         0,   0,   0,   0,   0,   0,   0,   0,   0,   0,   0,  24, 114,\n",
       "       221, 253, 253, 253, 253, 201,  78,   0,   0,   0,   0,   0,   0,\n",
       "         0,   0,   0,   0,   0,   0,   0,   0,   0,   0,   0,  23,  66,\n",
       "       213, 253, 253, 253, 253, 198,  81,   2,   0,   0,   0,   0,   0,\n",
       "         0,   0,   0,   0,   0,   0,   0,   0,   0,   0,   0,  18, 171,\n",
       "       219, 253, 253, 253, 253, 195,  80,   9,   0,   0,   0,   0,   0,\n",
       "         0,   0,   0,   0,   0,   0,   0,   0,   0,   0,   0,  55, 172,\n",
       "       226, 253, 253, 253, 253, 244, 133,  11,   0,   0,   0,   0,   0,\n",
       "         0,   0,   0,   0,   0,   0,   0,   0,   0,   0,   0,   0,   0,\n",
       "       136, 253, 253, 253, 212, 135, 132,  16,   0,   0,   0,   0,   0,\n",
       "         0,   0,   0,   0,   0,   0,   0,   0,   0,   0,   0,   0,   0,\n",
       "         0,   0,   0,   0,   0,   0,   0,   0,   0,   0,   0,   0,   0,\n",
       "         0,   0,   0,   0,   0,   0,   0,   0,   0,   0,   0,   0,   0,\n",
       "         0,   0,   0,   0,   0,   0,   0,   0,   0,   0,   0,   0,   0,\n",
       "         0,   0,   0,   0,   0,   0,   0,   0,   0,   0,   0,   0,   0,\n",
       "         0,   0,   0,   0,   0,   0,   0,   0,   0,   0,   0,   0,   0,\n",
       "         0,   0,   0,   0,   0,   0,   0,   0,   0,   0,   0,   0,   0,\n",
       "         0,   0,   0,   0], dtype=uint8)"
      ]
     },
     "execution_count": 12,
     "metadata": {},
     "output_type": "execute_result"
    }
   ],
   "source": [
    "x_train[0]"
   ]
  },
  {
   "cell_type": "code",
   "execution_count": 13,
   "metadata": {
    "scrolled": true
   },
   "outputs": [
    {
     "data": {
      "text/plain": [
       "<matplotlib.image.AxesImage at 0x2131e6f73c8>"
      ]
     },
     "execution_count": 13,
     "metadata": {},
     "output_type": "execute_result"
    },
    {
     "data": {
      "image/png": "[encoded data removed]",
      "text/plain": [
       "<Figure size 432x288 with 1 Axes>"
      ]
     },
     "metadata": {
      "needs_background": "light"
     },
     "output_type": "display_data"
    }
   ],
   "source": [
    "plt.imshow(x_train[40].reshape(28,28),cmap='binary')"
   ]
  },
  {
   "cell_type": "markdown",
   "metadata": {},
   "source": [
    "# 打造神經網路"
   ]
  },
  {
   "cell_type": "markdown",
   "metadata": {},
   "source": [
    "1層隱藏層\n",
    "\n",
    "第一層500個神經元\n",
    "\n",
    "隱藏層Activation function用sigmoid\n",
    "\n",
    "輸出層Activation function用softmax(softmax適合多分類問題，將神經元輸出壓縮到0~1之間)"
   ]
  },
  {
   "cell_type": "code",
   "execution_count": 14,
   "metadata": {},
   "outputs": [],
   "source": [
    "from keras.models import Sequential\n",
    "from keras.layers import Dense, Activation\n",
    "from keras.optimizers import Adam"
   ]
  },
  {
   "cell_type": "code",
   "execution_count": 15,
   "metadata": {},
   "outputs": [],
   "source": [
    "model = Sequential()"
   ]
  },
  {
   "cell_type": "code",
   "execution_count": 16,
   "metadata": {},
   "outputs": [],
   "source": [
    "model.add(Dense(100,input_dim = 784))\n",
    "model.add(Activation('sigmoid'))"
   ]
  },
  {
   "cell_type": "code",
   "execution_count": 17,
   "metadata": {},
   "outputs": [],
   "source": [
    "model.add(Dense(500))\n",
    "model.add(Activation('sigmoid'))"
   ]
  },
  {
   "cell_type": "code",
   "execution_count": 18,
   "metadata": {},
   "outputs": [],
   "source": [
    "model.add(Dense(10))\n",
    "model.add(Activation('softmax'))"
   ]
  },
  {
   "cell_type": "markdown",
   "metadata": {},
   "source": [
    "### 組裝神經網路"
   ]
  },
  {
   "cell_type": "code",
   "execution_count": 19,
   "metadata": {},
   "outputs": [],
   "source": [
    "model.compile(loss='mse', optimizer=SGD(lr=0.5),\n",
    "              metrics=['accuracy'])"
   ]
  },
  {
   "cell_type": "markdown",
   "metadata": {},
   "source": [
    "### 檢視神經網路"
   ]
  },
  {
   "cell_type": "code",
   "execution_count": 20,
   "metadata": {
    "scrolled": true
   },
   "outputs": [
    {
     "name": "stdout",
     "output_type": "stream",
     "text": [
      "_________________________________________________________________\n",
      "Layer (type)                 Output Shape              Param #   \n",
      "=================================================================\n",
      "dense_1 (Dense)              (None, 100)               78500     \n",
      "_________________________________________________________________\n",
      "activation_1 (Activation)    (None, 100)               0         \n",
      "_________________________________________________________________\n",
      "dense_2 (Dense)              (None, 500)               50500     \n",
      "_________________________________________________________________\n",
      "activation_2 (Activation)    (None, 500)               0         \n",
      "_________________________________________________________________\n",
      "dense_3 (Dense)              (None, 10)                5010      \n",
      "_________________________________________________________________\n",
      "activation_3 (Activation)    (None, 10)                0         \n",
      "=================================================================\n",
      "Total params: 134,010\n",
      "Trainable params: 134,010\n",
      "Non-trainable params: 0\n",
      "_________________________________________________________________\n"
     ]
    }
   ],
   "source": [
    "model.summary()"
   ]
  },
  {
   "cell_type": "markdown",
   "metadata": {},
   "source": [
    "# 訓練神經網路"
   ]
  },
  {
   "cell_type": "code",
   "execution_count": 21,
   "metadata": {
    "scrolled": true
   },
   "outputs": [
    {
     "name": "stdout",
     "output_type": "stream",
     "text": [
      "Train on 54000 samples, validate on 6000 samples\n",
      "Epoch 1/50\n",
      "54000/54000 [==============================] - 2s 40us/step - loss: 0.0775 - acc: 0.4001 - val_loss: 0.0603 - val_acc: 0.6218\n",
      "Epoch 2/50\n",
      "54000/54000 [==============================] - 1s 23us/step - loss: 0.0447 - acc: 0.7390 - val_loss: 0.0286 - val_acc: 0.8835\n",
      "Epoch 3/50\n",
      "54000/54000 [==============================] - 1s 24us/step - loss: 0.0250 - acc: 0.8709 - val_loss: 0.0175 - val_acc: 0.9115\n",
      "Epoch 4/50\n",
      "54000/54000 [==============================] - 1s 24us/step - loss: 0.0185 - acc: 0.8954 - val_loss: 0.0139 - val_acc: 0.9197\n",
      "Epoch 5/50\n",
      "54000/54000 [==============================] - 1s 23us/step - loss: 0.0162 - acc: 0.9024 - val_loss: 0.0130 - val_acc: 0.9235\n",
      "Epoch 6/50\n",
      "54000/54000 [==============================] - 1s 23us/step - loss: 0.0151 - acc: 0.9093 - val_loss: 0.0122 - val_acc: 0.9245\n",
      "Epoch 7/50\n",
      "54000/54000 [==============================] - 1s 23us/step - loss: 0.0143 - acc: 0.9141 - val_loss: 0.0119 - val_acc: 0.9277\n",
      "Epoch 8/50\n",
      "54000/54000 [==============================] - 1s 25us/step - loss: 0.0134 - acc: 0.9177 - val_loss: 0.0109 - val_acc: 0.9323\n",
      "Epoch 9/50\n",
      "54000/54000 [==============================] - 1s 23us/step - loss: 0.0128 - acc: 0.9207 - val_loss: 0.0102 - val_acc: 0.9383\n",
      "Epoch 10/50\n",
      "54000/54000 [==============================] - 1s 24us/step - loss: 0.0124 - acc: 0.9240 - val_loss: 0.0097 - val_acc: 0.9403\n",
      "Epoch 11/50\n",
      "54000/54000 [==============================] - 1s 24us/step - loss: 0.0121 - acc: 0.9256 - val_loss: 0.0101 - val_acc: 0.9388\n",
      "Epoch 12/50\n",
      "54000/54000 [==============================] - 1s 25us/step - loss: 0.0119 - acc: 0.9263 - val_loss: 0.0097 - val_acc: 0.9402\n",
      "Epoch 13/50\n",
      "54000/54000 [==============================] - 1s 25us/step - loss: 0.0114 - acc: 0.9292 - val_loss: 0.0090 - val_acc: 0.9452\n",
      "Epoch 14/50\n",
      "54000/54000 [==============================] - 1s 24us/step - loss: 0.0113 - acc: 0.9296 - val_loss: 0.0090 - val_acc: 0.9463\n",
      "Epoch 15/50\n",
      "54000/54000 [==============================] - 1s 24us/step - loss: 0.0107 - acc: 0.9331 - val_loss: 0.0089 - val_acc: 0.9475\n",
      "Epoch 16/50\n",
      "54000/54000 [==============================] - 1s 24us/step - loss: 0.0105 - acc: 0.9346 - val_loss: 0.0088 - val_acc: 0.9443\n",
      "Epoch 17/50\n",
      "54000/54000 [==============================] - 1s 24us/step - loss: 0.0105 - acc: 0.9347 - val_loss: 0.0087 - val_acc: 0.9460\n",
      "Epoch 18/50\n",
      "54000/54000 [==============================] - 1s 24us/step - loss: 0.0103 - acc: 0.9364 - val_loss: 0.0080 - val_acc: 0.9497\n",
      "Epoch 19/50\n",
      "54000/54000 [==============================] - 1s 24us/step - loss: 0.0102 - acc: 0.9366 - val_loss: 0.0087 - val_acc: 0.9445\n",
      "Epoch 20/50\n",
      "54000/54000 [==============================] - 1s 25us/step - loss: 0.0099 - acc: 0.9378 - val_loss: 0.0087 - val_acc: 0.9437\n",
      "Epoch 21/50\n",
      "54000/54000 [==============================] - 1s 24us/step - loss: 0.0098 - acc: 0.9381 - val_loss: 0.0079 - val_acc: 0.9517\n",
      "Epoch 22/50\n",
      "54000/54000 [==============================] - 1s 24us/step - loss: 0.0101 - acc: 0.9376 - val_loss: 0.0084 - val_acc: 0.9473\n",
      "Epoch 23/50\n",
      "54000/54000 [==============================] - 1s 27us/step - loss: 0.0099 - acc: 0.9383 - val_loss: 0.0080 - val_acc: 0.9513\n",
      "Epoch 24/50\n",
      "54000/54000 [==============================] - 1s 25us/step - loss: 0.0097 - acc: 0.9409 - val_loss: 0.0083 - val_acc: 0.9503\n",
      "Epoch 25/50\n",
      "54000/54000 [==============================] - 1s 24us/step - loss: 0.0096 - acc: 0.9398 - val_loss: 0.0076 - val_acc: 0.9527\n",
      "Epoch 26/50\n",
      "54000/54000 [==============================] - 1s 24us/step - loss: 0.0093 - acc: 0.9417 - val_loss: 0.0080 - val_acc: 0.9497\n",
      "Epoch 27/50\n",
      "54000/54000 [==============================] - 1s 23us/step - loss: 0.0092 - acc: 0.9423 - val_loss: 0.0082 - val_acc: 0.9478\n",
      "Epoch 28/50\n",
      "54000/54000 [==============================] - 1s 26us/step - loss: 0.0094 - acc: 0.9414 - val_loss: 0.0080 - val_acc: 0.9492\n",
      "Epoch 29/50\n",
      "54000/54000 [==============================] - 1s 28us/step - loss: 0.0093 - acc: 0.9420 - val_loss: 0.0077 - val_acc: 0.9505\n",
      "Epoch 30/50\n",
      "54000/54000 [==============================] - 1s 24us/step - loss: 0.0094 - acc: 0.9409 - val_loss: 0.0081 - val_acc: 0.9485\n",
      "Epoch 31/50\n",
      "54000/54000 [==============================] - 1s 23us/step - loss: 0.0091 - acc: 0.9441 - val_loss: 0.0077 - val_acc: 0.9535\n",
      "Epoch 32/50\n",
      "54000/54000 [==============================] - 1s 24us/step - loss: 0.0090 - acc: 0.9435 - val_loss: 0.0078 - val_acc: 0.9518\n",
      "Epoch 33/50\n",
      "54000/54000 [==============================] - 1s 23us/step - loss: 0.0092 - acc: 0.9422 - val_loss: 0.0077 - val_acc: 0.9518\n",
      "Epoch 34/50\n",
      "54000/54000 [==============================] - 1s 23us/step - loss: 0.0089 - acc: 0.9441 - val_loss: 0.0075 - val_acc: 0.9563\n",
      "Epoch 35/50\n",
      "54000/54000 [==============================] - 1s 22us/step - loss: 0.0088 - acc: 0.9449 - val_loss: 0.0077 - val_acc: 0.9500\n",
      "Epoch 36/50\n",
      "54000/54000 [==============================] - 1s 24us/step - loss: 0.0085 - acc: 0.9465 - val_loss: 0.0076 - val_acc: 0.9530\n",
      "Epoch 37/50\n",
      "54000/54000 [==============================] - 1s 23us/step - loss: 0.0089 - acc: 0.9442 - val_loss: 0.0077 - val_acc: 0.9523\n",
      "Epoch 38/50\n",
      "54000/54000 [==============================] - 1s 23us/step - loss: 0.0089 - acc: 0.9435 - val_loss: 0.0077 - val_acc: 0.9502\n",
      "Epoch 39/50\n",
      "54000/54000 [==============================] - 1s 23us/step - loss: 0.0087 - acc: 0.9445 - val_loss: 0.0077 - val_acc: 0.9517\n",
      "Epoch 40/50\n",
      "54000/54000 [==============================] - 1s 24us/step - loss: 0.0088 - acc: 0.9446 - val_loss: 0.0078 - val_acc: 0.9502\n",
      "Epoch 41/50\n",
      "54000/54000 [==============================] - 1s 23us/step - loss: 0.0086 - acc: 0.9457 - val_loss: 0.0078 - val_acc: 0.9490\n",
      "Epoch 42/50\n",
      "54000/54000 [==============================] - 1s 24us/step - loss: 0.0088 - acc: 0.9444 - val_loss: 0.0077 - val_acc: 0.9508\n",
      "Epoch 43/50\n",
      "54000/54000 [==============================] - 1s 23us/step - loss: 0.0088 - acc: 0.9441 - val_loss: 0.0077 - val_acc: 0.9525\n",
      "Epoch 44/50\n",
      "54000/54000 [==============================] - 1s 24us/step - loss: 0.0087 - acc: 0.9451 - val_loss: 0.0080 - val_acc: 0.9497\n",
      "Epoch 45/50\n",
      "54000/54000 [==============================] - 1s 23us/step - loss: 0.0086 - acc: 0.9465 - val_loss: 0.0073 - val_acc: 0.9533\n",
      "Epoch 46/50\n",
      "54000/54000 [==============================] - 1s 23us/step - loss: 0.0083 - acc: 0.9472 - val_loss: 0.0069 - val_acc: 0.9577\n",
      "Epoch 47/50\n",
      "54000/54000 [==============================] - 1s 23us/step - loss: 0.0082 - acc: 0.9485 - val_loss: 0.0069 - val_acc: 0.9582\n",
      "Epoch 48/50\n",
      "54000/54000 [==============================] - 1s 24us/step - loss: 0.0082 - acc: 0.9484 - val_loss: 0.0073 - val_acc: 0.9530\n",
      "Epoch 49/50\n",
      "54000/54000 [==============================] - 1s 23us/step - loss: 0.0084 - acc: 0.9465 - val_loss: 0.0076 - val_acc: 0.9527\n",
      "Epoch 50/50\n",
      "54000/54000 [==============================] - 1s 24us/step - loss: 0.0081 - acc: 0.9480 - val_loss: 0.0068 - val_acc: 0.9573\n"
     ]
    }
   ],
   "source": [
    "history = model.fit(x_train, y_train, batch_size=100, epochs=50, validation_split=0.1)"
   ]
  },
  {
   "cell_type": "code",
   "execution_count": 22,
   "metadata": {},
   "outputs": [
    {
     "data": {
      "text/plain": [
       "[<matplotlib.lines.Line2D at 0x277681b9c50>]"
      ]
     },
     "execution_count": 22,
     "metadata": {},
     "output_type": "execute_result"
    },
    {
     "data": {
      "image/png": "[encoded data removed]",
      "text/plain": [
       "<Figure size 432x288 with 1 Axes>"
      ]
     },
     "metadata": {
      "needs_background": "light"
     },
     "output_type": "display_data"
    }
   ],
   "source": [
    "plt.plot(history.history['acc'])"
   ]
  },
  {
   "cell_type": "code",
   "execution_count": 24,
   "metadata": {},
   "outputs": [],
   "source": [
    "from sklearn import metrics \n",
    "from sklearn.metrics import classification_report\n",
    "from sklearn.metrics import confusion_matrix"
   ]
  },
  {
   "cell_type": "code",
   "execution_count": 24,
   "metadata": {},
   "outputs": [
    {
     "name": "stdout",
     "output_type": "stream",
     "text": [
      "Train data：\n",
      "              precision    recall  f1-score   support\n",
      "\n",
      "           0       0.98      0.97      0.97      5923\n",
      "           1       0.98      0.98      0.98      6742\n",
      "           2       0.96      0.94      0.95      5958\n",
      "           3       0.91      0.95      0.93      6131\n",
      "           4       0.95      0.94      0.95      5842\n",
      "           5       0.94      0.94      0.94      5421\n",
      "           6       0.97      0.97      0.97      5918\n",
      "           7       0.96      0.95      0.96      6265\n",
      "           8       0.93      0.94      0.94      5851\n",
      "           9       0.92      0.93      0.93      5949\n",
      "\n",
      "    accuracy                           0.95     60000\n",
      "   macro avg       0.95      0.95      0.95     60000\n",
      "weighted avg       0.95      0.95      0.95     60000\n",
      "\n"
     ]
    },
    {
     "data": {
      "text/plain": [
       "0.9507166666666667"
      ]
     },
     "execution_count": 24,
     "metadata": {},
     "output_type": "execute_result"
    }
   ],
   "source": [
    "#用classification_report可以看看每個數字的精確度(非準確率)\n",
    "\n",
    "print(\"Train data：\")\n",
    "print(classification_report(y_train.argmax(1), model.predict(x_train).argmax(1)))\n",
    "metrics.accuracy_score(y_train.argmax(1), model.predict(x_train).argmax(1))"
   ]
  },
  {
   "cell_type": "code",
   "execution_count": 25,
   "metadata": {},
   "outputs": [
    {
     "name": "stdout",
     "output_type": "stream",
     "text": [
      "Test data：\n",
      "              precision    recall  f1-score   support\n",
      "\n",
      "           0       0.97      0.98      0.97       980\n",
      "           1       0.98      0.98      0.98      1135\n",
      "           2       0.96      0.95      0.95      1032\n",
      "           3       0.92      0.95      0.93      1010\n",
      "           4       0.95      0.93      0.94       982\n",
      "           5       0.94      0.93      0.93       892\n",
      "           6       0.97      0.96      0.96       958\n",
      "           7       0.96      0.93      0.95      1028\n",
      "           8       0.93      0.94      0.93       974\n",
      "           9       0.91      0.93      0.92      1009\n",
      "\n",
      "    accuracy                           0.95     10000\n",
      "   macro avg       0.95      0.95      0.95     10000\n",
      "weighted avg       0.95      0.95      0.95     10000\n",
      "\n"
     ]
    },
    {
     "data": {
      "text/plain": [
       "0.9478"
      ]
     },
     "execution_count": 25,
     "metadata": {},
     "output_type": "execute_result"
    }
   ],
   "source": [
    "print(\"Test data：\")\n",
    "print(classification_report(y_test.argmax(1), model.predict(x_test).argmax(1)))\n",
    "metrics.accuracy_score(y_test.argmax(1), model.predict(x_test).argmax(1))"
   ]
  },
  {
   "cell_type": "markdown",
   "metadata": {},
   "source": [
    "# 將loss function換成適合多分類問題的cross entropy"
   ]
  },
  {
   "cell_type": "code",
   "execution_count": 28,
   "metadata": {},
   "outputs": [],
   "source": [
    "model2 = Sequential()"
   ]
  },
  {
   "cell_type": "code",
   "execution_count": 29,
   "metadata": {},
   "outputs": [],
   "source": [
    "model2.add(Dense(100,input_dim = 784))\n",
    "model2.add(Activation('sigmoid'))"
   ]
  },
  {
   "cell_type": "code",
   "execution_count": 30,
   "metadata": {},
   "outputs": [],
   "source": [
    "model2.add(Dense(500))\n",
    "model2.add(Activation('sigmoid'))"
   ]
  },
  {
   "cell_type": "code",
   "execution_count": 31,
   "metadata": {},
   "outputs": [],
   "source": [
    "model2.add(Dense(10))\n",
    "model2.add(Activation('softmax'))"
   ]
  },
  {
   "cell_type": "code",
   "execution_count": 32,
   "metadata": {},
   "outputs": [],
   "source": [
    "model2.compile(loss='categorical_crossentropy', optimizer=SGD(lr=0.03),\n",
    "               metrics=['accuracy'])"
   ]
  },
  {
   "cell_type": "code",
   "execution_count": 33,
   "metadata": {},
   "outputs": [
    {
     "name": "stdout",
     "output_type": "stream",
     "text": [
      "_________________________________________________________________\n",
      "Layer (type)                 Output Shape              Param #   \n",
      "=================================================================\n",
      "dense_4 (Dense)              (None, 100)               78500     \n",
      "_________________________________________________________________\n",
      "activation_4 (Activation)    (None, 100)               0         \n",
      "_________________________________________________________________\n",
      "dense_5 (Dense)              (None, 500)               50500     \n",
      "_________________________________________________________________\n",
      "activation_5 (Activation)    (None, 500)               0         \n",
      "_________________________________________________________________\n",
      "dense_6 (Dense)              (None, 10)                5010      \n",
      "_________________________________________________________________\n",
      "activation_6 (Activation)    (None, 10)                0         \n",
      "=================================================================\n",
      "Total params: 134,010\n",
      "Trainable params: 134,010\n",
      "Non-trainable params: 0\n",
      "_________________________________________________________________\n"
     ]
    }
   ],
   "source": [
    "model2.summary()"
   ]
  },
  {
   "cell_type": "code",
   "execution_count": 34,
   "metadata": {
    "scrolled": true
   },
   "outputs": [
    {
     "name": "stdout",
     "output_type": "stream",
     "text": [
      "Train on 54000 samples, validate on 6000 samples\n",
      "Epoch 1/50\n",
      "54000/54000 [==============================] - 2s 28us/step - loss: 1.4532 - acc: 0.6628 - val_loss: 0.7434 - val_acc: 0.8742\n",
      "Epoch 2/50\n",
      "54000/54000 [==============================] - 1s 24us/step - loss: 0.5921 - acc: 0.8663 - val_loss: 0.4103 - val_acc: 0.9092\n",
      "Epoch 3/50\n",
      "54000/54000 [==============================] - 1s 24us/step - loss: 0.4203 - acc: 0.8936 - val_loss: 0.3264 - val_acc: 0.9187\n",
      "Epoch 4/50\n",
      "54000/54000 [==============================] - 1s 24us/step - loss: 0.3601 - acc: 0.9029 - val_loss: 0.2830 - val_acc: 0.9243\n",
      "Epoch 5/50\n",
      "54000/54000 [==============================] - 1s 25us/step - loss: 0.3291 - acc: 0.9104 - val_loss: 0.2592 - val_acc: 0.9263\n",
      "Epoch 6/50\n",
      "54000/54000 [==============================] - 1s 28us/step - loss: 0.3074 - acc: 0.9151 - val_loss: 0.2530 - val_acc: 0.9355\n",
      "Epoch 7/50\n",
      "54000/54000 [==============================] - 1s 24us/step - loss: 0.2955 - acc: 0.9166 - val_loss: 0.2410 - val_acc: 0.9338\n",
      "Epoch 8/50\n",
      "54000/54000 [==============================] - 1s 24us/step - loss: 0.2794 - acc: 0.9207 - val_loss: 0.2407 - val_acc: 0.9307\n",
      "Epoch 9/50\n",
      "54000/54000 [==============================] - 1s 25us/step - loss: 0.2684 - acc: 0.9243 - val_loss: 0.2298 - val_acc: 0.9358\n",
      "Epoch 10/50\n",
      "54000/54000 [==============================] - 1s 24us/step - loss: 0.2597 - acc: 0.9256 - val_loss: 0.2160 - val_acc: 0.9407\n",
      "Epoch 11/50\n",
      "54000/54000 [==============================] - 1s 25us/step - loss: 0.2485 - acc: 0.9279 - val_loss: 0.2034 - val_acc: 0.9468\n",
      "Epoch 12/50\n",
      "54000/54000 [==============================] - 1s 28us/step - loss: 0.2401 - acc: 0.9308 - val_loss: 0.2060 - val_acc: 0.9455\n",
      "Epoch 13/50\n",
      "54000/54000 [==============================] - 1s 24us/step - loss: 0.2393 - acc: 0.9316 - val_loss: 0.1993 - val_acc: 0.9463\n",
      "Epoch 14/50\n",
      "54000/54000 [==============================] - 1s 24us/step - loss: 0.2307 - acc: 0.9325 - val_loss: 0.1928 - val_acc: 0.9463\n",
      "Epoch 15/50\n",
      "54000/54000 [==============================] - 1s 24us/step - loss: 0.2214 - acc: 0.9352 - val_loss: 0.1832 - val_acc: 0.9530\n",
      "Epoch 16/50\n",
      "54000/54000 [==============================] - 1s 25us/step - loss: 0.2232 - acc: 0.9359 - val_loss: 0.1863 - val_acc: 0.9508\n",
      "Epoch 17/50\n",
      "54000/54000 [==============================] - 1s 24us/step - loss: 0.2183 - acc: 0.9368 - val_loss: 0.1822 - val_acc: 0.9500\n",
      "Epoch 18/50\n",
      "54000/54000 [==============================] - 1s 24us/step - loss: 0.2145 - acc: 0.9382 - val_loss: 0.1861 - val_acc: 0.9492\n",
      "Epoch 19/50\n",
      "54000/54000 [==============================] - 1s 24us/step - loss: 0.2154 - acc: 0.9384 - val_loss: 0.1916 - val_acc: 0.9478\n",
      "Epoch 20/50\n",
      "54000/54000 [==============================] - 1s 26us/step - loss: 0.2092 - acc: 0.9396 - val_loss: 0.1812 - val_acc: 0.9515\n",
      "Epoch 21/50\n",
      "54000/54000 [==============================] - 1s 26us/step - loss: 0.2054 - acc: 0.9397 - val_loss: 0.1681 - val_acc: 0.9525\n",
      "Epoch 22/50\n",
      "54000/54000 [==============================] - 1s 26us/step - loss: 0.2012 - acc: 0.9411 - val_loss: 0.1813 - val_acc: 0.9505\n",
      "Epoch 23/50\n",
      "54000/54000 [==============================] - 1s 24us/step - loss: 0.2025 - acc: 0.9402 - val_loss: 0.1989 - val_acc: 0.9458\n",
      "Epoch 24/50\n",
      "54000/54000 [==============================] - 1s 25us/step - loss: 0.2075 - acc: 0.9401 - val_loss: 0.1852 - val_acc: 0.9522\n",
      "Epoch 25/50\n",
      "54000/54000 [==============================] - 1s 24us/step - loss: 0.1976 - acc: 0.9424 - val_loss: 0.1719 - val_acc: 0.9508\n",
      "Epoch 26/50\n",
      "54000/54000 [==============================] - 1s 24us/step - loss: 0.1903 - acc: 0.9443 - val_loss: 0.1628 - val_acc: 0.9530\n",
      "Epoch 27/50\n",
      "54000/54000 [==============================] - 1s 24us/step - loss: 0.1913 - acc: 0.9433 - val_loss: 0.1653 - val_acc: 0.9543\n",
      "Epoch 28/50\n",
      "54000/54000 [==============================] - 1s 25us/step - loss: 0.1878 - acc: 0.9446 - val_loss: 0.1625 - val_acc: 0.9538\n",
      "Epoch 29/50\n",
      "54000/54000 [==============================] - 1s 25us/step - loss: 0.1839 - acc: 0.9461 - val_loss: 0.1657 - val_acc: 0.9520\n",
      "Epoch 30/50\n",
      "54000/54000 [==============================] - 1s 24us/step - loss: 0.1897 - acc: 0.9438 - val_loss: 0.1580 - val_acc: 0.9562\n",
      "Epoch 31/50\n",
      "54000/54000 [==============================] - 1s 24us/step - loss: 0.1831 - acc: 0.9451 - val_loss: 0.1697 - val_acc: 0.9518\n",
      "Epoch 32/50\n",
      "54000/54000 [==============================] - 1s 25us/step - loss: 0.1870 - acc: 0.9444 - val_loss: 0.1673 - val_acc: 0.9530\n",
      "Epoch 33/50\n",
      "54000/54000 [==============================] - 1s 24us/step - loss: 0.1789 - acc: 0.9458 - val_loss: 0.1563 - val_acc: 0.9587\n",
      "Epoch 34/50\n",
      "54000/54000 [==============================] - 1s 24us/step - loss: 0.1742 - acc: 0.9466 - val_loss: 0.1528 - val_acc: 0.9567\n",
      "Epoch 35/50\n",
      "54000/54000 [==============================] - 1s 24us/step - loss: 0.1731 - acc: 0.9477 - val_loss: 0.1635 - val_acc: 0.9515\n",
      "Epoch 36/50\n",
      "54000/54000 [==============================] - 1s 25us/step - loss: 0.1753 - acc: 0.9474 - val_loss: 0.1520 - val_acc: 0.9567\n",
      "Epoch 37/50\n",
      "54000/54000 [==============================] - 1s 24us/step - loss: 0.1710 - acc: 0.9483 - val_loss: 0.1564 - val_acc: 0.9563\n",
      "Epoch 38/50\n",
      "54000/54000 [==============================] - 1s 24us/step - loss: 0.1676 - acc: 0.9495 - val_loss: 0.1516 - val_acc: 0.9537\n",
      "Epoch 39/50\n",
      "54000/54000 [==============================] - 1s 24us/step - loss: 0.1714 - acc: 0.9481 - val_loss: 0.1614 - val_acc: 0.9538\n",
      "Epoch 40/50\n",
      "54000/54000 [==============================] - 1s 25us/step - loss: 0.1721 - acc: 0.9483 - val_loss: 0.1601 - val_acc: 0.9528\n",
      "Epoch 41/50\n",
      "54000/54000 [==============================] - 1s 24us/step - loss: 0.1787 - acc: 0.9460 - val_loss: 0.1627 - val_acc: 0.9520\n",
      "Epoch 42/50\n",
      "54000/54000 [==============================] - 1s 23us/step - loss: 0.1723 - acc: 0.9479 - val_loss: 0.1543 - val_acc: 0.9533\n",
      "Epoch 43/50\n",
      "54000/54000 [==============================] - 1s 24us/step - loss: 0.1725 - acc: 0.9478 - val_loss: 0.1508 - val_acc: 0.9548\n",
      "Epoch 44/50\n",
      "54000/54000 [==============================] - 1s 24us/step - loss: 0.1700 - acc: 0.9481 - val_loss: 0.1412 - val_acc: 0.9587\n",
      "Epoch 45/50\n",
      "54000/54000 [==============================] - 1s 24us/step - loss: 0.1597 - acc: 0.9512 - val_loss: 0.1363 - val_acc: 0.9630\n",
      "Epoch 46/50\n",
      "54000/54000 [==============================] - 1s 24us/step - loss: 0.1637 - acc: 0.9504 - val_loss: 0.1420 - val_acc: 0.9572\n",
      "Epoch 47/50\n",
      "54000/54000 [==============================] - 1s 24us/step - loss: 0.1565 - acc: 0.9517 - val_loss: 0.1421 - val_acc: 0.9580\n",
      "Epoch 48/50\n",
      "54000/54000 [==============================] - 1s 24us/step - loss: 0.1672 - acc: 0.9490 - val_loss: 0.1464 - val_acc: 0.9553\n",
      "Epoch 49/50\n",
      "54000/54000 [==============================] - 1s 23us/step - loss: 0.1650 - acc: 0.9504 - val_loss: 0.1588 - val_acc: 0.9532\n",
      "Epoch 50/50\n",
      "54000/54000 [==============================] - 1s 23us/step - loss: 0.1569 - acc: 0.9517 - val_loss: 0.1375 - val_acc: 0.9583\n"
     ]
    }
   ],
   "source": [
    "history2 = model2.fit(x_train, y_train, batch_size=100, epochs=50, validation_split=0.1)"
   ]
  },
  {
   "cell_type": "code",
   "execution_count": 35,
   "metadata": {},
   "outputs": [
    {
     "data": {
      "text/plain": [
       "[<matplotlib.lines.Line2D at 0x277728d6b38>]"
      ]
     },
     "execution_count": 35,
     "metadata": {},
     "output_type": "execute_result"
    },
    {
     "data": {
      "image/png": "[encoded data removed]",
      "text/plain": [
       "<Figure size 432x288 with 1 Axes>"
      ]
     },
     "metadata": {
      "needs_background": "light"
     },
     "output_type": "display_data"
    }
   ],
   "source": [
    "plt.plot(history2.history['acc'])"
   ]
  },
  {
   "cell_type": "code",
   "execution_count": 36,
   "metadata": {},
   "outputs": [
    {
     "name": "stdout",
     "output_type": "stream",
     "text": [
      "Test data：\n",
      "              precision    recall  f1-score   support\n",
      "\n",
      "           0       0.96      0.98      0.97       980\n",
      "           1       0.99      0.98      0.98      1135\n",
      "           2       0.96      0.95      0.95      1032\n",
      "           3       0.93      0.94      0.94      1010\n",
      "           4       0.93      0.96      0.94       982\n",
      "           5       0.95      0.92      0.93       892\n",
      "           6       0.96      0.95      0.95       958\n",
      "           7       0.94      0.94      0.94      1028\n",
      "           8       0.91      0.94      0.93       974\n",
      "           9       0.94      0.91      0.92      1009\n",
      "\n",
      "    accuracy                           0.95     10000\n",
      "   macro avg       0.95      0.95      0.95     10000\n",
      "weighted avg       0.95      0.95      0.95     10000\n",
      "\n"
     ]
    },
    {
     "data": {
      "text/plain": [
       "0.9475"
      ]
     },
     "execution_count": 36,
     "metadata": {},
     "output_type": "execute_result"
    }
   ],
   "source": [
    "print(\"Test data：\")\n",
    "print(classification_report(y_test.argmax(1), model2.predict(x_test).argmax(1)))\n",
    "metrics.accuracy_score(y_test.argmax(1), model2.predict(x_test).argmax(1))"
   ]
  },
  {
   "cell_type": "markdown",
   "metadata": {},
   "source": [
    "# 將優化器換成神經網路界鼎鼎大名的relu"
   ]
  },
  {
   "cell_type": "code",
   "execution_count": 100,
   "metadata": {},
   "outputs": [],
   "source": [
    "model3 = Sequential()"
   ]
  },
  {
   "cell_type": "code",
   "execution_count": 101,
   "metadata": {},
   "outputs": [],
   "source": [
    "model3.add(Dense(100,input_dim = 784))\n",
    "model3.add(Activation('relu'))"
   ]
  },
  {
   "cell_type": "code",
   "execution_count": 102,
   "metadata": {},
   "outputs": [],
   "source": [
    "model3.add(Dense(500))\n",
    "model3.add(Activation('relu'))"
   ]
  },
  {
   "cell_type": "code",
   "execution_count": 103,
   "metadata": {},
   "outputs": [],
   "source": [
    "model3.add(Dense(10))\n",
    "model3.add(Activation('softmax'))"
   ]
  },
  {
   "cell_type": "code",
   "execution_count": 104,
   "metadata": {},
   "outputs": [],
   "source": [
    "model3.compile(loss='categorical_crossentropy', \n",
    "              optimizer=Adam(lr=0.00003),\n",
    "              metrics=['accuracy'])"
   ]
  },
  {
   "cell_type": "code",
   "execution_count": 105,
   "metadata": {},
   "outputs": [
    {
     "name": "stdout",
     "output_type": "stream",
     "text": [
      "_________________________________________________________________\n",
      "Layer (type)                 Output Shape              Param #   \n",
      "=================================================================\n",
      "dense_22 (Dense)             (None, 100)               78500     \n",
      "_________________________________________________________________\n",
      "activation_22 (Activation)   (None, 100)               0         \n",
      "_________________________________________________________________\n",
      "dense_23 (Dense)             (None, 500)               50500     \n",
      "_________________________________________________________________\n",
      "activation_23 (Activation)   (None, 500)               0         \n",
      "_________________________________________________________________\n",
      "dense_24 (Dense)             (None, 10)                5010      \n",
      "_________________________________________________________________\n",
      "activation_24 (Activation)   (None, 10)                0         \n",
      "=================================================================\n",
      "Total params: 134,010\n",
      "Trainable params: 134,010\n",
      "Non-trainable params: 0\n",
      "_________________________________________________________________\n"
     ]
    }
   ],
   "source": [
    "model3.summary()"
   ]
  },
  {
   "cell_type": "code",
   "execution_count": 106,
   "metadata": {
    "scrolled": true
   },
   "outputs": [
    {
     "name": "stdout",
     "output_type": "stream",
     "text": [
      "Train on 54000 samples, validate on 6000 samples\n",
      "Epoch 1/50\n",
      "54000/54000 [==============================] - 2s 40us/step - loss: 8.9770 - acc: 0.4040 - val_loss: 6.2974 - val_acc: 0.5805\n",
      "Epoch 2/50\n",
      "54000/54000 [==============================] - 2s 35us/step - loss: 6.1553 - acc: 0.5905 - val_loss: 4.8182 - val_acc: 0.6623\n",
      "Epoch 3/50\n",
      "54000/54000 [==============================] - 2s 35us/step - loss: 4.6802 - acc: 0.6766 - val_loss: 3.7770 - val_acc: 0.7185\n",
      "Epoch 4/50\n",
      "54000/54000 [==============================] - 2s 35us/step - loss: 3.1602 - acc: 0.7676 - val_loss: 2.6821 - val_acc: 0.8038\n",
      "Epoch 5/50\n",
      "54000/54000 [==============================] - 2s 35us/step - loss: 2.7969 - acc: 0.7981 - val_loss: 2.4938 - val_acc: 0.8193\n",
      "Epoch 6/50\n",
      "54000/54000 [==============================] - 2s 35us/step - loss: 2.6444 - acc: 0.8109 - val_loss: 2.3960 - val_acc: 0.8272\n",
      "Epoch 7/50\n",
      "54000/54000 [==============================] - 2s 35us/step - loss: 2.5374 - acc: 0.8209 - val_loss: 2.3201 - val_acc: 0.8347\n",
      "Epoch 8/50\n",
      "54000/54000 [==============================] - 2s 36us/step - loss: 2.4596 - acc: 0.8278 - val_loss: 2.3179 - val_acc: 0.8337\n",
      "Epoch 9/50\n",
      "54000/54000 [==============================] - 2s 35us/step - loss: 2.3941 - acc: 0.8334 - val_loss: 2.2797 - val_acc: 0.8372\n",
      "Epoch 10/50\n",
      "54000/54000 [==============================] - 2s 36us/step - loss: 2.3350 - acc: 0.8378 - val_loss: 2.1928 - val_acc: 0.8400\n",
      "Epoch 11/50\n",
      "54000/54000 [==============================] - 2s 36us/step - loss: 0.7153 - acc: 0.9338 - val_loss: 0.6109 - val_acc: 0.9397\n",
      "Epoch 12/50\n",
      "54000/54000 [==============================] - 2s 36us/step - loss: 0.5026 - acc: 0.9509 - val_loss: 0.5613 - val_acc: 0.9415\n",
      "Epoch 13/50\n",
      "54000/54000 [==============================] - 2s 36us/step - loss: 0.4540 - acc: 0.9568 - val_loss: 0.5401 - val_acc: 0.9443\n",
      "Epoch 14/50\n",
      "54000/54000 [==============================] - 2s 36us/step - loss: 0.4122 - acc: 0.9608 - val_loss: 0.5394 - val_acc: 0.9447\n",
      "Epoch 15/50\n",
      "54000/54000 [==============================] - 2s 36us/step - loss: 0.3816 - acc: 0.9643 - val_loss: 0.5242 - val_acc: 0.9437\n",
      "Epoch 16/50\n",
      "54000/54000 [==============================] - 2s 37us/step - loss: 0.3558 - acc: 0.9667 - val_loss: 0.4998 - val_acc: 0.9473\n",
      "Epoch 17/50\n",
      "54000/54000 [==============================] - 2s 36us/step - loss: 0.3306 - acc: 0.9693 - val_loss: 0.5089 - val_acc: 0.9485\n",
      "Epoch 18/50\n",
      "54000/54000 [==============================] - 2s 36us/step - loss: 0.3108 - acc: 0.9715 - val_loss: 0.4839 - val_acc: 0.9492\n",
      "Epoch 19/50\n",
      "54000/54000 [==============================] - 2s 36us/step - loss: 0.2954 - acc: 0.9724 - val_loss: 0.4749 - val_acc: 0.9503\n",
      "Epoch 20/50\n",
      "54000/54000 [==============================] - 2s 36us/step - loss: 0.2765 - acc: 0.9752 - val_loss: 0.4549 - val_acc: 0.9508\n",
      "Epoch 21/50\n",
      "54000/54000 [==============================] - 2s 36us/step - loss: 0.2625 - acc: 0.9768 - val_loss: 0.4664 - val_acc: 0.9507\n",
      "Epoch 22/50\n",
      "54000/54000 [==============================] - 2s 36us/step - loss: 0.2497 - acc: 0.9789 - val_loss: 0.4598 - val_acc: 0.9525\n",
      "Epoch 23/50\n",
      "54000/54000 [==============================] - 2s 36us/step - loss: 0.2414 - acc: 0.9799 - val_loss: 0.4405 - val_acc: 0.9532\n",
      "Epoch 24/50\n",
      "54000/54000 [==============================] - 2s 37us/step - loss: 0.2343 - acc: 0.9807 - val_loss: 0.4341 - val_acc: 0.9560\n",
      "Epoch 25/50\n",
      "54000/54000 [==============================] - 2s 36us/step - loss: 0.2293 - acc: 0.9809 - val_loss: 0.4302 - val_acc: 0.9562\n",
      "Epoch 26/50\n",
      "54000/54000 [==============================] - 2s 36us/step - loss: 0.2172 - acc: 0.9832 - val_loss: 0.4297 - val_acc: 0.9545\n",
      "Epoch 27/50\n",
      "54000/54000 [==============================] - 2s 36us/step - loss: 0.2130 - acc: 0.9830 - val_loss: 0.4192 - val_acc: 0.9553\n",
      "Epoch 28/50\n",
      "54000/54000 [==============================] - 2s 36us/step - loss: 0.2059 - acc: 0.9841 - val_loss: 0.4241 - val_acc: 0.9552\n",
      "Epoch 29/50\n",
      "54000/54000 [==============================] - 2s 36us/step - loss: 0.2021 - acc: 0.9839 - val_loss: 0.4092 - val_acc: 0.9578\n",
      "Epoch 30/50\n",
      "54000/54000 [==============================] - 2s 36us/step - loss: 0.1984 - acc: 0.9844 - val_loss: 0.4018 - val_acc: 0.9577\n",
      "Epoch 31/50\n",
      "54000/54000 [==============================] - 2s 35us/step - loss: 0.1929 - acc: 0.9844 - val_loss: 0.4018 - val_acc: 0.9567\n",
      "Epoch 32/50\n",
      "54000/54000 [==============================] - 2s 36us/step - loss: 0.1853 - acc: 0.9857 - val_loss: 0.4083 - val_acc: 0.9573\n",
      "Epoch 33/50\n",
      "54000/54000 [==============================] - 2s 35us/step - loss: 0.1785 - acc: 0.9865 - val_loss: 0.3976 - val_acc: 0.9578\n",
      "Epoch 34/50\n",
      "54000/54000 [==============================] - 2s 36us/step - loss: 0.1777 - acc: 0.9857 - val_loss: 0.3979 - val_acc: 0.9577\n",
      "Epoch 35/50\n",
      "54000/54000 [==============================] - 2s 37us/step - loss: 0.1701 - acc: 0.9870 - val_loss: 0.4103 - val_acc: 0.9578\n",
      "Epoch 36/50\n",
      "54000/54000 [==============================] - 2s 35us/step - loss: 0.1663 - acc: 0.9873 - val_loss: 0.3953 - val_acc: 0.9585\n",
      "Epoch 37/50\n",
      "54000/54000 [==============================] - 2s 35us/step - loss: 0.1600 - acc: 0.9884 - val_loss: 0.3936 - val_acc: 0.9580\n",
      "Epoch 38/50\n",
      "54000/54000 [==============================] - 2s 36us/step - loss: 0.1593 - acc: 0.9881 - val_loss: 0.3874 - val_acc: 0.9588\n",
      "Epoch 39/50\n",
      "54000/54000 [==============================] - 2s 35us/step - loss: 0.1564 - acc: 0.9880 - val_loss: 0.3760 - val_acc: 0.9593\n",
      "Epoch 40/50\n",
      "54000/54000 [==============================] - 2s 36us/step - loss: 0.1539 - acc: 0.9882 - val_loss: 0.3960 - val_acc: 0.9588\n",
      "Epoch 41/50\n",
      "54000/54000 [==============================] - 2s 36us/step - loss: 0.1489 - acc: 0.9895 - val_loss: 0.3790 - val_acc: 0.9607\n",
      "Epoch 42/50\n",
      "54000/54000 [==============================] - 2s 36us/step - loss: 0.1480 - acc: 0.9896 - val_loss: 0.4050 - val_acc: 0.9582\n",
      "Epoch 43/50\n",
      "54000/54000 [==============================] - 2s 36us/step - loss: 0.1501 - acc: 0.9882 - val_loss: 0.3803 - val_acc: 0.9587\n",
      "Epoch 44/50\n",
      "54000/54000 [==============================] - 2s 37us/step - loss: 0.1444 - acc: 0.9900 - val_loss: 0.3708 - val_acc: 0.9617\n",
      "Epoch 45/50\n",
      "54000/54000 [==============================] - 2s 36us/step - loss: 0.1425 - acc: 0.9900 - val_loss: 0.3877 - val_acc: 0.9610\n",
      "Epoch 46/50\n",
      "54000/54000 [==============================] - 2s 37us/step - loss: 0.1416 - acc: 0.9896 - val_loss: 0.3721 - val_acc: 0.9637\n",
      "Epoch 47/50\n",
      "54000/54000 [==============================] - 2s 36us/step - loss: 0.1381 - acc: 0.9901 - val_loss: 0.3614 - val_acc: 0.9612\n",
      "Epoch 48/50\n",
      "54000/54000 [==============================] - 2s 36us/step - loss: 0.1369 - acc: 0.9902 - val_loss: 0.3667 - val_acc: 0.9617\n",
      "Epoch 49/50\n",
      "54000/54000 [==============================] - 2s 36us/step - loss: 0.1353 - acc: 0.9902 - val_loss: 0.3529 - val_acc: 0.9643\n",
      "Epoch 50/50\n",
      "54000/54000 [==============================] - 2s 35us/step - loss: 0.1339 - acc: 0.9901 - val_loss: 0.3548 - val_acc: 0.9620\n"
     ]
    }
   ],
   "source": [
    "history3 = model3.fit(x_train, y_train, batch_size=100, epochs=50, validation_split=0.1)"
   ]
  },
  {
   "cell_type": "code",
   "execution_count": 107,
   "metadata": {},
   "outputs": [
    {
     "data": {
      "text/plain": [
       "[<matplotlib.lines.Line2D at 0x27775fd33c8>]"
      ]
     },
     "execution_count": 107,
     "metadata": {},
     "output_type": "execute_result"
    },
    {
     "data": {
      "image/png": "[encoded data removed]",
      "text/plain": [
       "<Figure size 432x288 with 1 Axes>"
      ]
     },
     "metadata": {
      "needs_background": "light"
     },
     "output_type": "display_data"
    }
   ],
   "source": [
    "plt.plot(history3.history['acc'])"
   ]
  },
  {
   "cell_type": "code",
   "execution_count": 36,
   "metadata": {},
   "outputs": [
    {
     "data": {
      "text/plain": [
       "0.9542"
      ]
     },
     "execution_count": 36,
     "metadata": {},
     "output_type": "execute_result"
    }
   ],
   "source": [
    "metrics.accuracy_score(y_test.argmax(1), model3.predict(x_test).argmax(1))"
   ]
  },
  {
   "cell_type": "code",
   "execution_count": 108,
   "metadata": {},
   "outputs": [
    {
     "name": "stdout",
     "output_type": "stream",
     "text": [
      "Test data：\n",
      "              precision    recall  f1-score   support\n",
      "\n",
      "           0       0.97      0.97      0.97       980\n",
      "           1       0.98      0.99      0.98      1135\n",
      "           2       0.97      0.94      0.96      1032\n",
      "           3       0.93      0.95      0.94      1010\n",
      "           4       0.95      0.97      0.96       982\n",
      "           5       0.94      0.93      0.94       892\n",
      "           6       0.97      0.97      0.97       958\n",
      "           7       0.95      0.95      0.95      1028\n",
      "           8       0.94      0.93      0.94       974\n",
      "           9       0.94      0.93      0.94      1009\n",
      "\n",
      "    accuracy                           0.95     10000\n",
      "   macro avg       0.95      0.95      0.95     10000\n",
      "weighted avg       0.95      0.95      0.95     10000\n",
      "\n"
     ]
    },
    {
     "data": {
      "text/plain": [
       "0.9542"
      ]
     },
     "execution_count": 108,
     "metadata": {},
     "output_type": "execute_result"
    }
   ],
   "source": [
    "print(\"Test data：\")\n",
    "print(classification_report(y_test.argmax(1), model3.predict(x_test).argmax(1)))\n",
    "metrics.accuracy_score(y_test.argmax(1), model3.predict(x_test).argmax(1))"
   ]
  },
  {
   "cell_type": "markdown",
   "metadata": {},
   "source": [
    "# 神經網路可能會有overfitting的問題，加入dropout來防止"
   ]
  },
  {
   "cell_type": "code",
   "execution_count": 109,
   "metadata": {},
   "outputs": [],
   "source": [
    "from keras.layers import Dropout"
   ]
  },
  {
   "cell_type": "code",
   "execution_count": 110,
   "metadata": {},
   "outputs": [],
   "source": [
    "model4 = Sequential()"
   ]
  },
  {
   "cell_type": "code",
   "execution_count": 111,
   "metadata": {},
   "outputs": [],
   "source": [
    "model4.add(Dense(100,input_dim = 784))\n",
    "model4.add(Activation('relu'))"
   ]
  },
  {
   "cell_type": "code",
   "execution_count": 112,
   "metadata": {},
   "outputs": [],
   "source": [
    "model4.add(Dense(500))\n",
    "model4.add(Activation('relu'))"
   ]
  },
  {
   "cell_type": "code",
   "execution_count": 113,
   "metadata": {},
   "outputs": [],
   "source": [
    "model4.add(Dropout(0.2))"
   ]
  },
  {
   "cell_type": "code",
   "execution_count": 114,
   "metadata": {},
   "outputs": [],
   "source": [
    "model4.add(Dense(10))\n",
    "model4.add(Activation('softmax'))"
   ]
  },
  {
   "cell_type": "code",
   "execution_count": 115,
   "metadata": {},
   "outputs": [],
   "source": [
    "model4.compile(loss='categorical_crossentropy', \n",
    "               optimizer=Adam(lr=0.00003),\n",
    "               metrics=['accuracy'])"
   ]
  },
  {
   "cell_type": "code",
   "execution_count": 116,
   "metadata": {},
   "outputs": [
    {
     "name": "stdout",
     "output_type": "stream",
     "text": [
      "_________________________________________________________________\n",
      "Layer (type)                 Output Shape              Param #   \n",
      "=================================================================\n",
      "dense_25 (Dense)             (None, 100)               78500     \n",
      "_________________________________________________________________\n",
      "activation_25 (Activation)   (None, 100)               0         \n",
      "_________________________________________________________________\n",
      "dense_26 (Dense)             (None, 500)               50500     \n",
      "_________________________________________________________________\n",
      "activation_26 (Activation)   (None, 500)               0         \n",
      "_________________________________________________________________\n",
      "dropout_4 (Dropout)          (None, 500)               0         \n",
      "_________________________________________________________________\n",
      "dense_27 (Dense)             (None, 10)                5010      \n",
      "_________________________________________________________________\n",
      "activation_27 (Activation)   (None, 10)                0         \n",
      "=================================================================\n",
      "Total params: 134,010\n",
      "Trainable params: 134,010\n",
      "Non-trainable params: 0\n",
      "_________________________________________________________________\n"
     ]
    }
   ],
   "source": [
    "model4.summary()"
   ]
  },
  {
   "cell_type": "code",
   "execution_count": 117,
   "metadata": {},
   "outputs": [],
   "source": [
    "from keras.callbacks import EarlyStopping\n",
    "early_stopping = EarlyStopping(monitor='val_loss', patience=5, verbose=2)"
   ]
  },
  {
   "cell_type": "code",
   "execution_count": 118,
   "metadata": {
    "scrolled": true
   },
   "outputs": [
    {
     "name": "stdout",
     "output_type": "stream",
     "text": [
      "Train on 54000 samples, validate on 6000 samples\n",
      "Epoch 1/50\n",
      "54000/54000 [==============================] - 2s 44us/step - loss: 8.2585 - acc: 0.4346 - val_loss: 3.9078 - val_acc: 0.7232\n",
      "Epoch 2/50\n",
      "54000/54000 [==============================] - 2s 37us/step - loss: 4.2953 - acc: 0.6950 - val_loss: 2.0064 - val_acc: 0.8477\n",
      "Epoch 3/50\n",
      "54000/54000 [==============================] - 2s 36us/step - loss: 2.6512 - acc: 0.8007 - val_loss: 1.4245 - val_acc: 0.8915\n",
      "Epoch 4/50\n",
      "54000/54000 [==============================] - 2s 36us/step - loss: 2.1077 - acc: 0.8412 - val_loss: 1.2005 - val_acc: 0.9070\n",
      "Epoch 5/50\n",
      "54000/54000 [==============================] - 2s 37us/step - loss: 1.8245 - acc: 0.8628 - val_loss: 1.0800 - val_acc: 0.9177\n",
      "Epoch 6/50\n",
      "54000/54000 [==============================] - 2s 37us/step - loss: 1.6125 - acc: 0.8763 - val_loss: 0.9936 - val_acc: 0.9237\n",
      "Epoch 7/50\n",
      "54000/54000 [==============================] - 2s 37us/step - loss: 1.4795 - acc: 0.8878 - val_loss: 0.9089 - val_acc: 0.9308\n",
      "Epoch 8/50\n",
      "54000/54000 [==============================] - 2s 36us/step - loss: 1.3409 - acc: 0.8979 - val_loss: 0.8607 - val_acc: 0.9330\n",
      "Epoch 9/50\n",
      "54000/54000 [==============================] - 2s 37us/step - loss: 1.2373 - acc: 0.9041 - val_loss: 0.7968 - val_acc: 0.9377\n",
      "Epoch 10/50\n",
      "54000/54000 [==============================] - 2s 37us/step - loss: 1.1499 - acc: 0.9110 - val_loss: 0.7442 - val_acc: 0.9408\n",
      "Epoch 11/50\n",
      "54000/54000 [==============================] - 2s 40us/step - loss: 1.0827 - acc: 0.9161 - val_loss: 0.7171 - val_acc: 0.9445\n",
      "Epoch 12/50\n",
      "54000/54000 [==============================] - 2s 37us/step - loss: 1.0112 - acc: 0.9200 - val_loss: 0.7065 - val_acc: 0.9442\n",
      "Epoch 13/50\n",
      "54000/54000 [==============================] - 2s 37us/step - loss: 0.9587 - acc: 0.9246 - val_loss: 0.6315 - val_acc: 0.9505\n",
      "Epoch 14/50\n",
      "54000/54000 [==============================] - 2s 38us/step - loss: 0.8879 - acc: 0.9289 - val_loss: 0.6215 - val_acc: 0.9522\n",
      "Epoch 15/50\n",
      "54000/54000 [==============================] - 2s 37us/step - loss: 0.8369 - acc: 0.9335 - val_loss: 0.5930 - val_acc: 0.9538\n",
      "Epoch 16/50\n",
      "54000/54000 [==============================] - 2s 37us/step - loss: 0.8034 - acc: 0.9355 - val_loss: 0.5727 - val_acc: 0.9538\n",
      "Epoch 17/50\n",
      "54000/54000 [==============================] - 2s 37us/step - loss: 0.7557 - acc: 0.9389 - val_loss: 0.5260 - val_acc: 0.9563\n",
      "Epoch 18/50\n",
      "54000/54000 [==============================] - 2s 37us/step - loss: 0.7375 - acc: 0.9405 - val_loss: 0.5420 - val_acc: 0.9568\n",
      "Epoch 19/50\n",
      "54000/54000 [==============================] - 2s 38us/step - loss: 0.6956 - acc: 0.9434 - val_loss: 0.5057 - val_acc: 0.9572\n",
      "Epoch 20/50\n",
      "54000/54000 [==============================] - 2s 37us/step - loss: 0.6519 - acc: 0.9466 - val_loss: 0.5005 - val_acc: 0.9585\n",
      "Epoch 21/50\n",
      "54000/54000 [==============================] - 2s 37us/step - loss: 0.6374 - acc: 0.9470 - val_loss: 0.4792 - val_acc: 0.9610\n",
      "Epoch 22/50\n",
      "54000/54000 [==============================] - 2s 37us/step - loss: 0.6040 - acc: 0.9496 - val_loss: 0.4669 - val_acc: 0.9602\n",
      "Epoch 23/50\n",
      "54000/54000 [==============================] - 2s 38us/step - loss: 0.5815 - acc: 0.9506 - val_loss: 0.4703 - val_acc: 0.9615\n",
      "Epoch 24/50\n",
      "54000/54000 [==============================] - 2s 38us/step - loss: 0.5579 - acc: 0.9534 - val_loss: 0.4668 - val_acc: 0.9607\n",
      "Epoch 25/50\n",
      "54000/54000 [==============================] - 2s 36us/step - loss: 0.5233 - acc: 0.9553 - val_loss: 0.4503 - val_acc: 0.9632\n",
      "Epoch 26/50\n",
      "54000/54000 [==============================] - 2s 37us/step - loss: 0.5163 - acc: 0.9558 - val_loss: 0.4396 - val_acc: 0.9638\n",
      "Epoch 27/50\n",
      "54000/54000 [==============================] - 2s 38us/step - loss: 0.4911 - acc: 0.9576 - val_loss: 0.4438 - val_acc: 0.9628\n",
      "Epoch 28/50\n",
      "54000/54000 [==============================] - 2s 36us/step - loss: 0.4680 - acc: 0.9588 - val_loss: 0.4215 - val_acc: 0.9642\n",
      "Epoch 29/50\n",
      "54000/54000 [==============================] - 2s 37us/step - loss: 0.4610 - acc: 0.9599 - val_loss: 0.4045 - val_acc: 0.9652\n",
      "Epoch 30/50\n",
      "54000/54000 [==============================] - 2s 37us/step - loss: 0.4218 - acc: 0.9629 - val_loss: 0.4095 - val_acc: 0.9655\n",
      "Epoch 31/50\n",
      "54000/54000 [==============================] - 2s 37us/step - loss: 0.4221 - acc: 0.9630 - val_loss: 0.4037 - val_acc: 0.9650\n",
      "Epoch 32/50\n",
      "54000/54000 [==============================] - 2s 38us/step - loss: 0.4010 - acc: 0.9646 - val_loss: 0.4127 - val_acc: 0.9650\n",
      "Epoch 33/50\n",
      "54000/54000 [==============================] - 2s 37us/step - loss: 0.3837 - acc: 0.9663 - val_loss: 0.3929 - val_acc: 0.9645\n",
      "Epoch 34/50\n",
      "54000/54000 [==============================] - 2s 37us/step - loss: 0.3708 - acc: 0.9669 - val_loss: 0.3911 - val_acc: 0.9652\n",
      "Epoch 35/50\n",
      "54000/54000 [==============================] - 2s 37us/step - loss: 0.3554 - acc: 0.9682 - val_loss: 0.4010 - val_acc: 0.9645\n",
      "Epoch 36/50\n",
      "54000/54000 [==============================] - 2s 37us/step - loss: 0.3494 - acc: 0.9682 - val_loss: 0.3791 - val_acc: 0.9657\n",
      "Epoch 37/50\n",
      "54000/54000 [==============================] - 2s 38us/step - loss: 0.3331 - acc: 0.9696 - val_loss: 0.3730 - val_acc: 0.9663\n",
      "Epoch 38/50\n",
      "54000/54000 [==============================] - 2s 37us/step - loss: 0.3290 - acc: 0.9693 - val_loss: 0.3789 - val_acc: 0.9670\n",
      "Epoch 39/50\n",
      "54000/54000 [==============================] - 2s 37us/step - loss: 0.3135 - acc: 0.9711 - val_loss: 0.3844 - val_acc: 0.9667\n",
      "Epoch 40/50\n",
      "54000/54000 [==============================] - 2s 38us/step - loss: 0.2989 - acc: 0.9726 - val_loss: 0.3641 - val_acc: 0.9682\n",
      "Epoch 41/50\n",
      "54000/54000 [==============================] - 2s 37us/step - loss: 0.2843 - acc: 0.9730 - val_loss: 0.3732 - val_acc: 0.9667\n",
      "Epoch 42/50\n",
      "54000/54000 [==============================] - 2s 38us/step - loss: 0.2766 - acc: 0.9737 - val_loss: 0.3596 - val_acc: 0.9677\n",
      "Epoch 43/50\n",
      "54000/54000 [==============================] - 2s 38us/step - loss: 0.2699 - acc: 0.9745 - val_loss: 0.3511 - val_acc: 0.9670\n",
      "Epoch 44/50\n",
      "54000/54000 [==============================] - 2s 38us/step - loss: 0.2612 - acc: 0.9754 - val_loss: 0.3560 - val_acc: 0.9687\n",
      "Epoch 45/50\n",
      "54000/54000 [==============================] - 2s 37us/step - loss: 0.2479 - acc: 0.9758 - val_loss: 0.3551 - val_acc: 0.9677\n",
      "Epoch 46/50\n",
      "54000/54000 [==============================] - 2s 37us/step - loss: 0.2421 - acc: 0.9770 - val_loss: 0.3592 - val_acc: 0.9682\n",
      "Epoch 47/50\n",
      "54000/54000 [==============================] - 2s 37us/step - loss: 0.2300 - acc: 0.9776 - val_loss: 0.3506 - val_acc: 0.9663\n",
      "Epoch 48/50\n",
      "54000/54000 [==============================] - 2s 37us/step - loss: 0.2236 - acc: 0.9783 - val_loss: 0.3471 - val_acc: 0.9695\n",
      "Epoch 49/50\n",
      "54000/54000 [==============================] - 2s 37us/step - loss: 0.2164 - acc: 0.9786 - val_loss: 0.3352 - val_acc: 0.9685\n",
      "Epoch 50/50\n",
      "54000/54000 [==============================] - 2s 38us/step - loss: 0.2133 - acc: 0.9795 - val_loss: 0.3372 - val_acc: 0.9705\n"
     ]
    }
   ],
   "source": [
    "history4 = model4.fit(x_train, y_train, batch_size=100, epochs=50, validation_split=0.1)"
   ]
  },
  {
   "cell_type": "code",
   "execution_count": 119,
   "metadata": {},
   "outputs": [
    {
     "data": {
      "text/plain": [
       "[<matplotlib.lines.Line2D at 0x277798edba8>]"
      ]
     },
     "execution_count": 119,
     "metadata": {},
     "output_type": "execute_result"
    },
    {
     "data": {
      "image/png": "[encoded data removed]",
      "text/plain": [
       "<Figure size 432x288 with 1 Axes>"
      ]
     },
     "metadata": {
      "needs_background": "light"
     },
     "output_type": "display_data"
    }
   ],
   "source": [
    "plt.plot(history4.history['acc'])"
   ]
  },
  {
   "cell_type": "markdown",
   "metadata": {},
   "source": [
    "### 雖然train data時的表現看似變差了，但對validation跟test data的效果較好"
   ]
  },
  {
   "cell_type": "code",
   "execution_count": 120,
   "metadata": {},
   "outputs": [
    {
     "name": "stdout",
     "output_type": "stream",
     "text": [
      "Test data：\n",
      "              precision    recall  f1-score   support\n",
      "\n",
      "           0       0.97      0.99      0.98       980\n",
      "           1       0.99      0.99      0.99      1135\n",
      "           2       0.97      0.96      0.97      1032\n",
      "           3       0.96      0.96      0.96      1010\n",
      "           4       0.96      0.97      0.97       982\n",
      "           5       0.97      0.96      0.96       892\n",
      "           6       0.97      0.97      0.97       958\n",
      "           7       0.98      0.95      0.96      1028\n",
      "           8       0.95      0.95      0.95       974\n",
      "           9       0.95      0.95      0.95      1009\n",
      "\n",
      "    accuracy                           0.97     10000\n",
      "   macro avg       0.97      0.97      0.97     10000\n",
      "weighted avg       0.97      0.97      0.97     10000\n",
      "\n"
     ]
    },
    {
     "data": {
      "text/plain": [
       "0.9662"
      ]
     },
     "execution_count": 120,
     "metadata": {},
     "output_type": "execute_result"
    }
   ],
   "source": [
    "print(\"Test data：\")\n",
    "print(classification_report(y_test.argmax(1), model4.predict(x_test).argmax(1)))\n",
    "metrics.accuracy_score(y_test.argmax(1), model4.predict(x_test).argmax(1))"
   ]
  },
  {
   "cell_type": "code",
   "execution_count": 33,
   "metadata": {
    "scrolled": true
   },
   "outputs": [
    {
     "data": {
      "text/html": [
       "<div>\n",
       "<style scoped>\n",
       "    .dataframe tbody tr th:only-of-type {\n",
       "        vertical-align: middle;\n",
       "    }\n",
       "\n",
       "    .dataframe tbody tr th {\n",
       "        vertical-align: top;\n",
       "    }\n",
       "\n",
       "    .dataframe thead th {\n",
       "        text-align: right;\n",
       "    }\n",
       "</style>\n",
       "<table border=\"1\" class=\"dataframe\">\n",
       "  <thead>\n",
       "    <tr style=\"text-align: right;\">\n",
       "      <th></th>\n",
       "      <th>predict_0</th>\n",
       "      <th>predict_1</th>\n",
       "      <th>predict_2</th>\n",
       "      <th>predict_3</th>\n",
       "      <th>predict_4</th>\n",
       "      <th>predict_5</th>\n",
       "      <th>predict_6</th>\n",
       "      <th>predict_7</th>\n",
       "      <th>predict_8</th>\n",
       "      <th>predict_9</th>\n",
       "    </tr>\n",
       "  </thead>\n",
       "  <tbody>\n",
       "    <tr>\n",
       "      <th>true_0</th>\n",
       "      <td>954</td>\n",
       "      <td>0</td>\n",
       "      <td>2</td>\n",
       "      <td>0</td>\n",
       "      <td>0</td>\n",
       "      <td>9</td>\n",
       "      <td>6</td>\n",
       "      <td>2</td>\n",
       "      <td>2</td>\n",
       "      <td>5</td>\n",
       "    </tr>\n",
       "    <tr>\n",
       "      <th>true_1</th>\n",
       "      <td>0</td>\n",
       "      <td>1119</td>\n",
       "      <td>2</td>\n",
       "      <td>2</td>\n",
       "      <td>0</td>\n",
       "      <td>1</td>\n",
       "      <td>4</td>\n",
       "      <td>1</td>\n",
       "      <td>5</td>\n",
       "      <td>1</td>\n",
       "    </tr>\n",
       "    <tr>\n",
       "      <th>true_2</th>\n",
       "      <td>6</td>\n",
       "      <td>2</td>\n",
       "      <td>975</td>\n",
       "      <td>12</td>\n",
       "      <td>5</td>\n",
       "      <td>2</td>\n",
       "      <td>1</td>\n",
       "      <td>9</td>\n",
       "      <td>19</td>\n",
       "      <td>1</td>\n",
       "    </tr>\n",
       "    <tr>\n",
       "      <th>true_3</th>\n",
       "      <td>1</td>\n",
       "      <td>0</td>\n",
       "      <td>5</td>\n",
       "      <td>962</td>\n",
       "      <td>0</td>\n",
       "      <td>12</td>\n",
       "      <td>1</td>\n",
       "      <td>13</td>\n",
       "      <td>10</td>\n",
       "      <td>6</td>\n",
       "    </tr>\n",
       "    <tr>\n",
       "      <th>true_4</th>\n",
       "      <td>4</td>\n",
       "      <td>0</td>\n",
       "      <td>2</td>\n",
       "      <td>0</td>\n",
       "      <td>952</td>\n",
       "      <td>0</td>\n",
       "      <td>3</td>\n",
       "      <td>3</td>\n",
       "      <td>5</td>\n",
       "      <td>13</td>\n",
       "    </tr>\n",
       "    <tr>\n",
       "      <th>true_5</th>\n",
       "      <td>7</td>\n",
       "      <td>1</td>\n",
       "      <td>0</td>\n",
       "      <td>22</td>\n",
       "      <td>4</td>\n",
       "      <td>834</td>\n",
       "      <td>10</td>\n",
       "      <td>3</td>\n",
       "      <td>5</td>\n",
       "      <td>6</td>\n",
       "    </tr>\n",
       "    <tr>\n",
       "      <th>true_6</th>\n",
       "      <td>6</td>\n",
       "      <td>4</td>\n",
       "      <td>3</td>\n",
       "      <td>1</td>\n",
       "      <td>7</td>\n",
       "      <td>10</td>\n",
       "      <td>925</td>\n",
       "      <td>0</td>\n",
       "      <td>1</td>\n",
       "      <td>1</td>\n",
       "    </tr>\n",
       "    <tr>\n",
       "      <th>true_7</th>\n",
       "      <td>0</td>\n",
       "      <td>6</td>\n",
       "      <td>13</td>\n",
       "      <td>7</td>\n",
       "      <td>3</td>\n",
       "      <td>2</td>\n",
       "      <td>0</td>\n",
       "      <td>974</td>\n",
       "      <td>3</td>\n",
       "      <td>20</td>\n",
       "    </tr>\n",
       "    <tr>\n",
       "      <th>true_8</th>\n",
       "      <td>4</td>\n",
       "      <td>2</td>\n",
       "      <td>5</td>\n",
       "      <td>21</td>\n",
       "      <td>4</td>\n",
       "      <td>13</td>\n",
       "      <td>6</td>\n",
       "      <td>4</td>\n",
       "      <td>910</td>\n",
       "      <td>5</td>\n",
       "    </tr>\n",
       "    <tr>\n",
       "      <th>true_9</th>\n",
       "      <td>4</td>\n",
       "      <td>4</td>\n",
       "      <td>0</td>\n",
       "      <td>9</td>\n",
       "      <td>25</td>\n",
       "      <td>5</td>\n",
       "      <td>1</td>\n",
       "      <td>17</td>\n",
       "      <td>7</td>\n",
       "      <td>937</td>\n",
       "    </tr>\n",
       "  </tbody>\n",
       "</table>\n",
       "</div>"
      ],
      "text/plain": [
       "        predict_0  predict_1  predict_2  predict_3  predict_4  predict_5  \\\n",
       "true_0        954          0          2          0          0          9   \n",
       "true_1          0       1119          2          2          0          1   \n",
       "true_2          6          2        975         12          5          2   \n",
       "true_3          1          0          5        962          0         12   \n",
       "true_4          4          0          2          0        952          0   \n",
       "true_5          7          1          0         22          4        834   \n",
       "true_6          6          4          3          1          7         10   \n",
       "true_7          0          6         13          7          3          2   \n",
       "true_8          4          2          5         21          4         13   \n",
       "true_9          4          4          0          9         25          5   \n",
       "\n",
       "        predict_6  predict_7  predict_8  predict_9  \n",
       "true_0          6          2          2          5  \n",
       "true_1          4          1          5          1  \n",
       "true_2          1          9         19          1  \n",
       "true_3          1         13         10          6  \n",
       "true_4          3          3          5         13  \n",
       "true_5         10          3          5          6  \n",
       "true_6        925          0          1          1  \n",
       "true_7          0        974          3         20  \n",
       "true_8          6          4        910          5  \n",
       "true_9          1         17          7        937  "
      ]
     },
     "execution_count": 33,
     "metadata": {},
     "output_type": "execute_result"
    }
   ],
   "source": [
    "#confusion_matrix可以看出每個預測錯誤的是預測成哪一個\n",
    "row = [\"true_0\",\"true_1\",\"true_2\",\"true_3\",\"true_4\",\n",
    "       \"true_5\",\"true_6\",\"true_7\",\"true_8\",\"true_9\"]\n",
    "\n",
    "column = [\"predict_0\",\"predict_1\",\"predict_2\",\"predict_3\",\"predict_4\",\n",
    "          \"predict_5\",\"predict_6\",\"predict_7\",\"predict_8\",\"predict_9\"]\n",
    "\n",
    "CM3 = confusion_matrix(y_test.argmax(1), model3.predict(x_test).argmax(1))\n",
    "pd.DataFrame(CM, index = row, columns = column)"
   ]
  },
  {
   "cell_type": "code",
   "execution_count": 32,
   "metadata": {},
   "outputs": [
    {
     "data": {
      "text/html": [
       "<div>\n",
       "<style scoped>\n",
       "    .dataframe tbody tr th:only-of-type {\n",
       "        vertical-align: middle;\n",
       "    }\n",
       "\n",
       "    .dataframe tbody tr th {\n",
       "        vertical-align: top;\n",
       "    }\n",
       "\n",
       "    .dataframe thead th {\n",
       "        text-align: right;\n",
       "    }\n",
       "</style>\n",
       "<table border=\"1\" class=\"dataframe\">\n",
       "  <thead>\n",
       "    <tr style=\"text-align: right;\">\n",
       "      <th></th>\n",
       "      <th>predict_0</th>\n",
       "      <th>predict_1</th>\n",
       "      <th>predict_2</th>\n",
       "      <th>predict_3</th>\n",
       "      <th>predict_4</th>\n",
       "      <th>predict_5</th>\n",
       "      <th>predict_6</th>\n",
       "      <th>predict_7</th>\n",
       "      <th>predict_8</th>\n",
       "      <th>predict_9</th>\n",
       "    </tr>\n",
       "  </thead>\n",
       "  <tbody>\n",
       "    <tr>\n",
       "      <th>true_0</th>\n",
       "      <td>966</td>\n",
       "      <td>0</td>\n",
       "      <td>1</td>\n",
       "      <td>0</td>\n",
       "      <td>0</td>\n",
       "      <td>1</td>\n",
       "      <td>6</td>\n",
       "      <td>2</td>\n",
       "      <td>4</td>\n",
       "      <td>0</td>\n",
       "    </tr>\n",
       "    <tr>\n",
       "      <th>true_1</th>\n",
       "      <td>0</td>\n",
       "      <td>1125</td>\n",
       "      <td>4</td>\n",
       "      <td>0</td>\n",
       "      <td>1</td>\n",
       "      <td>1</td>\n",
       "      <td>2</td>\n",
       "      <td>0</td>\n",
       "      <td>2</td>\n",
       "      <td>0</td>\n",
       "    </tr>\n",
       "    <tr>\n",
       "      <th>true_2</th>\n",
       "      <td>7</td>\n",
       "      <td>1</td>\n",
       "      <td>995</td>\n",
       "      <td>4</td>\n",
       "      <td>2</td>\n",
       "      <td>2</td>\n",
       "      <td>4</td>\n",
       "      <td>6</td>\n",
       "      <td>10</td>\n",
       "      <td>1</td>\n",
       "    </tr>\n",
       "    <tr>\n",
       "      <th>true_3</th>\n",
       "      <td>0</td>\n",
       "      <td>0</td>\n",
       "      <td>8</td>\n",
       "      <td>973</td>\n",
       "      <td>1</td>\n",
       "      <td>9</td>\n",
       "      <td>0</td>\n",
       "      <td>2</td>\n",
       "      <td>7</td>\n",
       "      <td>10</td>\n",
       "    </tr>\n",
       "    <tr>\n",
       "      <th>true_4</th>\n",
       "      <td>1</td>\n",
       "      <td>0</td>\n",
       "      <td>2</td>\n",
       "      <td>0</td>\n",
       "      <td>954</td>\n",
       "      <td>0</td>\n",
       "      <td>6</td>\n",
       "      <td>2</td>\n",
       "      <td>4</td>\n",
       "      <td>13</td>\n",
       "    </tr>\n",
       "    <tr>\n",
       "      <th>true_5</th>\n",
       "      <td>2</td>\n",
       "      <td>1</td>\n",
       "      <td>1</td>\n",
       "      <td>18</td>\n",
       "      <td>2</td>\n",
       "      <td>852</td>\n",
       "      <td>6</td>\n",
       "      <td>0</td>\n",
       "      <td>4</td>\n",
       "      <td>6</td>\n",
       "    </tr>\n",
       "    <tr>\n",
       "      <th>true_6</th>\n",
       "      <td>8</td>\n",
       "      <td>2</td>\n",
       "      <td>1</td>\n",
       "      <td>1</td>\n",
       "      <td>5</td>\n",
       "      <td>6</td>\n",
       "      <td>932</td>\n",
       "      <td>0</td>\n",
       "      <td>3</td>\n",
       "      <td>0</td>\n",
       "    </tr>\n",
       "    <tr>\n",
       "      <th>true_7</th>\n",
       "      <td>2</td>\n",
       "      <td>7</td>\n",
       "      <td>10</td>\n",
       "      <td>6</td>\n",
       "      <td>7</td>\n",
       "      <td>1</td>\n",
       "      <td>0</td>\n",
       "      <td>972</td>\n",
       "      <td>4</td>\n",
       "      <td>19</td>\n",
       "    </tr>\n",
       "    <tr>\n",
       "      <th>true_8</th>\n",
       "      <td>4</td>\n",
       "      <td>0</td>\n",
       "      <td>4</td>\n",
       "      <td>11</td>\n",
       "      <td>5</td>\n",
       "      <td>6</td>\n",
       "      <td>4</td>\n",
       "      <td>4</td>\n",
       "      <td>930</td>\n",
       "      <td>6</td>\n",
       "    </tr>\n",
       "    <tr>\n",
       "      <th>true_9</th>\n",
       "      <td>4</td>\n",
       "      <td>5</td>\n",
       "      <td>0</td>\n",
       "      <td>5</td>\n",
       "      <td>14</td>\n",
       "      <td>4</td>\n",
       "      <td>1</td>\n",
       "      <td>5</td>\n",
       "      <td>8</td>\n",
       "      <td>963</td>\n",
       "    </tr>\n",
       "  </tbody>\n",
       "</table>\n",
       "</div>"
      ],
      "text/plain": [
       "        predict_0  predict_1  predict_2  predict_3  predict_4  predict_5  \\\n",
       "true_0        966          0          1          0          0          1   \n",
       "true_1          0       1125          4          0          1          1   \n",
       "true_2          7          1        995          4          2          2   \n",
       "true_3          0          0          8        973          1          9   \n",
       "true_4          1          0          2          0        954          0   \n",
       "true_5          2          1          1         18          2        852   \n",
       "true_6          8          2          1          1          5          6   \n",
       "true_7          2          7         10          6          7          1   \n",
       "true_8          4          0          4         11          5          6   \n",
       "true_9          4          5          0          5         14          4   \n",
       "\n",
       "        predict_6  predict_7  predict_8  predict_9  \n",
       "true_0          6          2          4          0  \n",
       "true_1          2          0          2          0  \n",
       "true_2          4          6         10          1  \n",
       "true_3          0          2          7         10  \n",
       "true_4          6          2          4         13  \n",
       "true_5          6          0          4          6  \n",
       "true_6        932          0          3          0  \n",
       "true_7          0        972          4         19  \n",
       "true_8          4          4        930          6  \n",
       "true_9          1          5          8        963  "
      ]
     },
     "execution_count": 32,
     "metadata": {},
     "output_type": "execute_result"
    }
   ],
   "source": [
    "CMtest = confusion_matrix(y_test.argmax(1), model4.predict(x_test).argmax(1))\n",
    "CMtest = pd.DataFrame(CMtest,\n",
    "                      index = [\"true_0\",\"true_1\",\"true_2\",\"true_3\",\"true_4\",\"true_5\",\"true_6\",\"true_7\",\"true_8\",\"true_9\"],\n",
    "                      columns = [\"predict_0\",\"predict_1\",\"predict_2\",\"predict_3\",\"predict_4\",\"predict_5\",\"predict_6\",\"predict_7\",\"predict_8\",\"predict_9\"])\n",
    "CMtest"
   ]
  },
  {
   "cell_type": "markdown",
   "metadata": {},
   "source": [
    "# 互動小程式可以觀察神經網路預測每筆資料的成果"
   ]
  },
  {
   "cell_type": "code",
   "execution_count": 58,
   "metadata": {},
   "outputs": [],
   "source": [
    "from ipywidgets import interact"
   ]
  },
  {
   "cell_type": "code",
   "execution_count": 59,
   "metadata": {},
   "outputs": [],
   "source": [
    "predict = model4.predict_classes(x_test)"
   ]
  },
  {
   "cell_type": "code",
   "execution_count": 60,
   "metadata": {},
   "outputs": [],
   "source": [
    "def test(測試編號):\n",
    "    plt.imshow(x_test[測試編號].reshape(28,28), cmap='Greys')\n",
    "    print('原本給的label為：', y_test.argmax(1)[測試編號])\n",
    "    print('神經網路判斷為:',predict[測試編號])"
   ]
  },
  {
   "cell_type": "code",
   "execution_count": 61,
   "metadata": {},
   "outputs": [
    {
     "data": {
      "application/vnd.jupyter.widget-view+json": {
       "model_id": "f3f2b6d1fb9940a9a89b4a55f9cf98c3",
       "version_major": 2,
       "version_minor": 0
      },
      "text/plain": [
       "interactive(children=(IntSlider(value=4999, description='測試編號', max=9999), Output()), _dom_classes=('widget-in…"
      ]
     },
     "metadata": {},
     "output_type": "display_data"
    },
    {
     "data": {
      "text/plain": [
       "<function __main__.test(測試編號)>"
      ]
     },
     "execution_count": 61,
     "metadata": {},
     "output_type": "execute_result"
    }
   ],
   "source": [
    "interact(test, 測試編號=(0,9999))"
   ]
  },
  {
   "cell_type": "markdown",
   "metadata": {},
   "source": [
    "## 預測看看自己手寫的數字資料"
   ]
  },
  {
   "cell_type": "markdown",
   "metadata": {},
   "source": [
    "### 讀入自己的資料"
   ]
  },
  {
   "cell_type": "code",
   "execution_count": 19,
   "metadata": {},
   "outputs": [],
   "source": [
    "from PIL import Image"
   ]
  },
  {
   "cell_type": "code",
   "execution_count": 37,
   "metadata": {},
   "outputs": [],
   "source": [
    "im_arr = []\n",
    "for i in range(0,20):\n",
    "    img = Image.open('./mnist自己手寫/' + str(i) + '.png')\n",
    "    resize_Im = img.resize((28,28))\n",
    "    convert_Im = np.array(resize_Im.convert(\"L\"))\n",
    "    \n",
    "    convert_Im = convert_Im.reshape((1,28*28))\n",
    "    im_arr.append(255-convert_Im)"
   ]
  },
  {
   "cell_type": "code",
   "execution_count": 64,
   "metadata": {
    "scrolled": true
   },
   "outputs": [
    {
     "data": {
      "image/png": "[encoded data removed]",
      "text/plain": [
       "<Figure size 432x288 with 1 Axes>"
      ]
     },
     "metadata": {
      "needs_background": "light"
     },
     "output_type": "display_data"
    },
    {
     "name": "stdout",
     "output_type": "stream",
     "text": [
      "神經網路判斷為: [0]\n"
     ]
    },
    {
     "data": {
      "image/png": "[encoded data removed]",
      "text/plain": [
       "<Figure size 432x288 with 1 Axes>"
      ]
     },
     "metadata": {
      "needs_background": "light"
     },
     "output_type": "display_data"
    },
    {
     "name": "stdout",
     "output_type": "stream",
     "text": [
      "神經網路判斷為: [0]\n"
     ]
    },
    {
     "data": {
      "image/png": "[encoded data removed]",
      "text/plain": [
       "<Figure size 432x288 with 1 Axes>"
      ]
     },
     "metadata": {
      "needs_background": "light"
     },
     "output_type": "display_data"
    },
    {
     "name": "stdout",
     "output_type": "stream",
     "text": [
      "神經網路判斷為: [1]\n"
     ]
    },
    {
     "data": {
      "image/png": "[encoded data removed]",
      "text/plain": [
       "<Figure size 432x288 with 1 Axes>"
      ]
     },
     "metadata": {
      "needs_background": "light"
     },
     "output_type": "display_data"
    },
    {
     "name": "stdout",
     "output_type": "stream",
     "text": [
      "神經網路判斷為: [1]\n"
     ]
    },
    {
     "data": {
      "image/png": "[encoded data removed]",
      "text/plain": [
       "<Figure size 432x288 with 1 Axes>"
      ]
     },
     "metadata": {
      "needs_background": "light"
     },
     "output_type": "display_data"
    },
    {
     "name": "stdout",
     "output_type": "stream",
     "text": [
      "神經網路判斷為: [1]\n"
     ]
    },
    {
     "data": {
      "image/png": "[encoded data removed]",
      "text/plain": [
       "<Figure size 432x288 with 1 Axes>"
      ]
     },
     "metadata": {
      "needs_background": "light"
     },
     "output_type": "display_data"
    },
    {
     "name": "stdout",
     "output_type": "stream",
     "text": [
      "神經網路判斷為: [2]\n"
     ]
    },
    {
     "data": {
      "image/png": "[encoded data removed]",
      "text/plain": [
       "<Figure size 432x288 with 1 Axes>"
      ]
     },
     "metadata": {
      "needs_background": "light"
     },
     "output_type": "display_data"
    },
    {
     "name": "stdout",
     "output_type": "stream",
     "text": [
      "神經網路判斷為: [3]\n"
     ]
    },
    {
     "data": {
      "image/png": "[encoded data removed]",
      "text/plain": [
       "<Figure size 432x288 with 1 Axes>"
      ]
     },
     "metadata": {
      "needs_background": "light"
     },
     "output_type": "display_data"
    },
    {
     "name": "stdout",
     "output_type": "stream",
     "text": [
      "神經網路判斷為: [3]\n"
     ]
    },
    {
     "data": {
      "image/png": "[encoded data removed]",
      "text/plain": [
       "<Figure size 432x288 with 1 Axes>"
      ]
     },
     "metadata": {
      "needs_background": "light"
     },
     "output_type": "display_data"
    },
    {
     "name": "stdout",
     "output_type": "stream",
     "text": [
      "神經網路判斷為: [4]\n"
     ]
    },
    {
     "data": {
      "image/png": "[encoded data removed]",
      "text/plain": [
       "<Figure size 432x288 with 1 Axes>"
      ]
     },
     "metadata": {
      "needs_background": "light"
     },
     "output_type": "display_data"
    },
    {
     "name": "stdout",
     "output_type": "stream",
     "text": [
      "神經網路判斷為: [4]\n"
     ]
    },
    {
     "data": {
      "image/png": "[encoded data removed]",
      "text/plain": [
       "<Figure size 432x288 with 1 Axes>"
      ]
     },
     "metadata": {
      "needs_background": "light"
     },
     "output_type": "display_data"
    },
    {
     "name": "stdout",
     "output_type": "stream",
     "text": [
      "神經網路判斷為: [5]\n"
     ]
    },
    {
     "data": {
      "image/png": "[encoded data removed]",
      "text/plain": [
       "<Figure size 432x288 with 1 Axes>"
      ]
     },
     "metadata": {
      "needs_background": "light"
     },
     "output_type": "display_data"
    },
    {
     "name": "stdout",
     "output_type": "stream",
     "text": [
      "神經網路判斷為: [5]\n"
     ]
    },
    {
     "data": {
      "image/png": "[encoded data removed]",
      "text/plain": [
       "<Figure size 432x288 with 1 Axes>"
      ]
     },
     "metadata": {
      "needs_background": "light"
     },
     "output_type": "display_data"
    },
    {
     "name": "stdout",
     "output_type": "stream",
     "text": [
      "神經網路判斷為: [6]\n"
     ]
    },
    {
     "data": {
      "image/png": "[encoded data removed]",
      "text/plain": [
       "<Figure size 432x288 with 1 Axes>"
      ]
     },
     "metadata": {
      "needs_background": "light"
     },
     "output_type": "display_data"
    },
    {
     "name": "stdout",
     "output_type": "stream",
     "text": [
      "神經網路判斷為: [6]\n"
     ]
    },
    {
     "data": {
      "image/png": "[encoded data removed]",
      "text/plain": [
       "<Figure size 432x288 with 1 Axes>"
      ]
     },
     "metadata": {
      "needs_background": "light"
     },
     "output_type": "display_data"
    },
    {
     "name": "stdout",
     "output_type": "stream",
     "text": [
      "神經網路判斷為: [7]\n"
     ]
    },
    {
     "data": {
      "image/png": "[encoded data removed]",
      "text/plain": [
       "<Figure size 432x288 with 1 Axes>"
      ]
     },
     "metadata": {
      "needs_background": "light"
     },
     "output_type": "display_data"
    },
    {
     "name": "stdout",
     "output_type": "stream",
     "text": [
      "神經網路判斷為: [3]\n"
     ]
    },
    {
     "data": {
      "image/png": "[encoded data removed]",
      "text/plain": [
       "<Figure size 432x288 with 1 Axes>"
      ]
     },
     "metadata": {
      "needs_background": "light"
     },
     "output_type": "display_data"
    },
    {
     "name": "stdout",
     "output_type": "stream",
     "text": [
      "神經網路判斷為: [0]\n"
     ]
    },
    {
     "data": {
      "image/png": "[encoded data removed]",
      "text/plain": [
       "<Figure size 432x288 with 1 Axes>"
      ]
     },
     "metadata": {
      "needs_background": "light"
     },
     "output_type": "display_data"
    },
    {
     "name": "stdout",
     "output_type": "stream",
     "text": [
      "神經網路判斷為: [8]\n"
     ]
    },
    {
     "data": {
      "image/png": "[encoded data removed]",
      "text/plain": [
       "<Figure size 432x288 with 1 Axes>"
      ]
     },
     "metadata": {
      "needs_background": "light"
     },
     "output_type": "display_data"
    },
    {
     "name": "stdout",
     "output_type": "stream",
     "text": [
      "神經網路判斷為: [9]\n"
     ]
    },
    {
     "data": {
      "image/png": "[encoded data removed]",
      "text/plain": [
       "<Figure size 432x288 with 1 Axes>"
      ]
     },
     "metadata": {
      "needs_background": "light"
     },
     "output_type": "display_data"
    },
    {
     "name": "stdout",
     "output_type": "stream",
     "text": [
      "神經網路判斷為: [9]\n"
     ]
    }
   ],
   "source": [
    "#17/20\n",
    "for i in range(20):\n",
    "    plt.imshow(im_arr[i].reshape(28,28),cmap='Greys')\n",
    "    plt.show()\n",
    "    print('神經網路判斷為:',model.predict_classes(im_arr[i]))"
   ]
  },
  {
   "cell_type": "code",
   "execution_count": 65,
   "metadata": {
    "scrolled": true
   },
   "outputs": [
    {
     "data": {
      "image/png": "[encoded data removed]",
      "text/plain": [
       "<Figure size 432x288 with 1 Axes>"
      ]
     },
     "metadata": {
      "needs_background": "light"
     },
     "output_type": "display_data"
    },
    {
     "name": "stdout",
     "output_type": "stream",
     "text": [
      "神經網路判斷為: [0]\n"
     ]
    },
    {
     "data": {
      "image/png": "[encoded data removed]",
      "text/plain": [
       "<Figure size 432x288 with 1 Axes>"
      ]
     },
     "metadata": {
      "needs_background": "light"
     },
     "output_type": "display_data"
    },
    {
     "name": "stdout",
     "output_type": "stream",
     "text": [
      "神經網路判斷為: [0]\n"
     ]
    },
    {
     "data": {
      "image/png": "[encoded data removed]",
      "text/plain": [
       "<Figure size 432x288 with 1 Axes>"
      ]
     },
     "metadata": {
      "needs_background": "light"
     },
     "output_type": "display_data"
    },
    {
     "name": "stdout",
     "output_type": "stream",
     "text": [
      "神經網路判斷為: [1]\n"
     ]
    },
    {
     "data": {
      "image/png": "[encoded data removed]",
      "text/plain": [
       "<Figure size 432x288 with 1 Axes>"
      ]
     },
     "metadata": {
      "needs_background": "light"
     },
     "output_type": "display_data"
    },
    {
     "name": "stdout",
     "output_type": "stream",
     "text": [
      "神經網路判斷為: [1]\n"
     ]
    },
    {
     "data": {
      "image/png": "[encoded data removed]",
      "text/plain": [
       "<Figure size 432x288 with 1 Axes>"
      ]
     },
     "metadata": {
      "needs_background": "light"
     },
     "output_type": "display_data"
    },
    {
     "name": "stdout",
     "output_type": "stream",
     "text": [
      "神經網路判斷為: [1]\n"
     ]
    },
    {
     "data": {
      "image/png": "[encoded data removed]",
      "text/plain": [
       "<Figure size 432x288 with 1 Axes>"
      ]
     },
     "metadata": {
      "needs_background": "light"
     },
     "output_type": "display_data"
    },
    {
     "name": "stdout",
     "output_type": "stream",
     "text": [
      "神經網路判斷為: [2]\n"
     ]
    },
    {
     "data": {
      "image/png": "[encoded data removed]",
      "text/plain": [
       "<Figure size 432x288 with 1 Axes>"
      ]
     },
     "metadata": {
      "needs_background": "light"
     },
     "output_type": "display_data"
    },
    {
     "name": "stdout",
     "output_type": "stream",
     "text": [
      "神經網路判斷為: [3]\n"
     ]
    },
    {
     "data": {
      "image/png": "[encoded data removed]",
      "text/plain": [
       "<Figure size 432x288 with 1 Axes>"
      ]
     },
     "metadata": {
      "needs_background": "light"
     },
     "output_type": "display_data"
    },
    {
     "name": "stdout",
     "output_type": "stream",
     "text": [
      "神經網路判斷為: [3]\n"
     ]
    },
    {
     "data": {
      "image/png": "[encoded data removed]",
      "text/plain": [
       "<Figure size 432x288 with 1 Axes>"
      ]
     },
     "metadata": {
      "needs_background": "light"
     },
     "output_type": "display_data"
    },
    {
     "name": "stdout",
     "output_type": "stream",
     "text": [
      "神經網路判斷為: [4]\n"
     ]
    },
    {
     "data": {
      "image/png": "[encoded data removed]",
      "text/plain": [
       "<Figure size 432x288 with 1 Axes>"
      ]
     },
     "metadata": {
      "needs_background": "light"
     },
     "output_type": "display_data"
    },
    {
     "name": "stdout",
     "output_type": "stream",
     "text": [
      "神經網路判斷為: [4]\n"
     ]
    },
    {
     "data": {
      "image/png": "[encoded data removed]",
      "text/plain": [
       "<Figure size 432x288 with 1 Axes>"
      ]
     },
     "metadata": {
      "needs_background": "light"
     },
     "output_type": "display_data"
    },
    {
     "name": "stdout",
     "output_type": "stream",
     "text": [
      "神經網路判斷為: [5]\n"
     ]
    },
    {
     "data": {
      "image/png": "[encoded data removed]",
      "text/plain": [
       "<Figure size 432x288 with 1 Axes>"
      ]
     },
     "metadata": {
      "needs_background": "light"
     },
     "output_type": "display_data"
    },
    {
     "name": "stdout",
     "output_type": "stream",
     "text": [
      "神經網路判斷為: [5]\n"
     ]
    },
    {
     "data": {
      "image/png": "[encoded data removed]",
      "text/plain": [
       "<Figure size 432x288 with 1 Axes>"
      ]
     },
     "metadata": {
      "needs_background": "light"
     },
     "output_type": "display_data"
    },
    {
     "name": "stdout",
     "output_type": "stream",
     "text": [
      "神經網路判斷為: [6]\n"
     ]
    },
    {
     "data": {
      "image/png": "[encoded data removed]",
      "text/plain": [
       "<Figure size 432x288 with 1 Axes>"
      ]
     },
     "metadata": {
      "needs_background": "light"
     },
     "output_type": "display_data"
    },
    {
     "name": "stdout",
     "output_type": "stream",
     "text": [
      "神經網路判斷為: [6]\n"
     ]
    },
    {
     "data": {
      "image/png": "[encoded data removed]",
      "text/plain": [
       "<Figure size 432x288 with 1 Axes>"
      ]
     },
     "metadata": {
      "needs_background": "light"
     },
     "output_type": "display_data"
    },
    {
     "name": "stdout",
     "output_type": "stream",
     "text": [
      "神經網路判斷為: [7]\n"
     ]
    },
    {
     "data": {
      "image/png": "[encoded data removed]",
      "text/plain": [
       "<Figure size 432x288 with 1 Axes>"
      ]
     },
     "metadata": {
      "needs_background": "light"
     },
     "output_type": "display_data"
    },
    {
     "name": "stdout",
     "output_type": "stream",
     "text": [
      "神經網路判斷為: [2]\n"
     ]
    },
    {
     "data": {
      "image/png": "[encoded data removed]",
      "text/plain": [
       "<Figure size 432x288 with 1 Axes>"
      ]
     },
     "metadata": {
      "needs_background": "light"
     },
     "output_type": "display_data"
    },
    {
     "name": "stdout",
     "output_type": "stream",
     "text": [
      "神經網路判斷為: [0]\n"
     ]
    },
    {
     "data": {
      "image/png": "[encoded data removed]",
      "text/plain": [
       "<Figure size 432x288 with 1 Axes>"
      ]
     },
     "metadata": {
      "needs_background": "light"
     },
     "output_type": "display_data"
    },
    {
     "name": "stdout",
     "output_type": "stream",
     "text": [
      "神經網路判斷為: [8]\n"
     ]
    },
    {
     "data": {
      "image/png": "[encoded data removed]",
      "text/plain": [
       "<Figure size 432x288 with 1 Axes>"
      ]
     },
     "metadata": {
      "needs_background": "light"
     },
     "output_type": "display_data"
    },
    {
     "name": "stdout",
     "output_type": "stream",
     "text": [
      "神經網路判斷為: [9]\n"
     ]
    },
    {
     "data": {
      "image/png": "[encoded data removed]",
      "text/plain": [
       "<Figure size 432x288 with 1 Axes>"
      ]
     },
     "metadata": {
      "needs_background": "light"
     },
     "output_type": "display_data"
    },
    {
     "name": "stdout",
     "output_type": "stream",
     "text": [
      "神經網路判斷為: [9]\n"
     ]
    }
   ],
   "source": [
    "#17/20\n",
    "for i in range(20):\n",
    "    plt.imshow(im_arr[i].reshape(28,28),cmap='Greys')\n",
    "    plt.show()\n",
    "    print('神經網路判斷為:',model2.predict_classes(im_arr[i]))"
   ]
  },
  {
   "cell_type": "code",
   "execution_count": 38,
   "metadata": {
    "scrolled": false
   },
   "outputs": [
    {
     "data": {
      "image/png": "[encoded data removed]",
      "text/plain": [
       "<Figure size 432x288 with 1 Axes>"
      ]
     },
     "metadata": {
      "needs_background": "light"
     },
     "output_type": "display_data"
    },
    {
     "name": "stdout",
     "output_type": "stream",
     "text": [
      "神經網路判斷為: [0]\n"
     ]
    },
    {
     "data": {
      "image/png": "[encoded data removed]",
      "text/plain": [
       "<Figure size 432x288 with 1 Axes>"
      ]
     },
     "metadata": {
      "needs_background": "light"
     },
     "output_type": "display_data"
    },
    {
     "name": "stdout",
     "output_type": "stream",
     "text": [
      "神經網路判斷為: [9]\n"
     ]
    },
    {
     "data": {
      "image/png": "[encoded data removed]",
      "text/plain": [
       "<Figure size 432x288 with 1 Axes>"
      ]
     },
     "metadata": {
      "needs_background": "light"
     },
     "output_type": "display_data"
    },
    {
     "name": "stdout",
     "output_type": "stream",
     "text": [
      "神經網路判斷為: [1]\n"
     ]
    },
    {
     "data": {
      "image/png": "[encoded data removed]",
      "text/plain": [
       "<Figure size 432x288 with 1 Axes>"
      ]
     },
     "metadata": {
      "needs_background": "light"
     },
     "output_type": "display_data"
    },
    {
     "name": "stdout",
     "output_type": "stream",
     "text": [
      "神經網路判斷為: [1]\n"
     ]
    },
    {
     "data": {
      "image/png": "[encoded data removed]",
      "text/plain": [
       "<Figure size 432x288 with 1 Axes>"
      ]
     },
     "metadata": {
      "needs_background": "light"
     },
     "output_type": "display_data"
    },
    {
     "name": "stdout",
     "output_type": "stream",
     "text": [
      "神經網路判斷為: [1]\n"
     ]
    },
    {
     "data": {
      "image/png": "[encoded data removed]",
      "text/plain": [
       "<Figure size 432x288 with 1 Axes>"
      ]
     },
     "metadata": {
      "needs_background": "light"
     },
     "output_type": "display_data"
    },
    {
     "name": "stdout",
     "output_type": "stream",
     "text": [
      "神經網路判斷為: [7]\n"
     ]
    },
    {
     "data": {
      "image/png": "[encoded data removed]",
      "text/plain": [
       "<Figure size 432x288 with 1 Axes>"
      ]
     },
     "metadata": {
      "needs_background": "light"
     },
     "output_type": "display_data"
    },
    {
     "name": "stdout",
     "output_type": "stream",
     "text": [
      "神經網路判斷為: [3]\n"
     ]
    },
    {
     "data": {
      "image/png": "[encoded data removed]",
      "text/plain": [
       "<Figure size 432x288 with 1 Axes>"
      ]
     },
     "metadata": {
      "needs_background": "light"
     },
     "output_type": "display_data"
    },
    {
     "name": "stdout",
     "output_type": "stream",
     "text": [
      "神經網路判斷為: [7]\n"
     ]
    },
    {
     "data": {
      "image/png": "[encoded data removed]",
      "text/plain": [
       "<Figure size 432x288 with 1 Axes>"
      ]
     },
     "metadata": {
      "needs_background": "light"
     },
     "output_type": "display_data"
    },
    {
     "name": "stdout",
     "output_type": "stream",
     "text": [
      "神經網路判斷為: [4]\n"
     ]
    },
    {
     "data": {
      "image/png": "[encoded data removed]",
      "text/plain": [
       "<Figure size 432x288 with 1 Axes>"
      ]
     },
     "metadata": {
      "needs_background": "light"
     },
     "output_type": "display_data"
    },
    {
     "name": "stdout",
     "output_type": "stream",
     "text": [
      "神經網路判斷為: [4]\n"
     ]
    },
    {
     "data": {
      "image/png": "[encoded data removed]",
      "text/plain": [
       "<Figure size 432x288 with 1 Axes>"
      ]
     },
     "metadata": {
      "needs_background": "light"
     },
     "output_type": "display_data"
    },
    {
     "name": "stdout",
     "output_type": "stream",
     "text": [
      "神經網路判斷為: [5]\n"
     ]
    },
    {
     "data": {
      "image/png": "[encoded data removed]",
      "text/plain": [
       "<Figure size 432x288 with 1 Axes>"
      ]
     },
     "metadata": {
      "needs_background": "light"
     },
     "output_type": "display_data"
    },
    {
     "name": "stdout",
     "output_type": "stream",
     "text": [
      "神經網路判斷為: [1]\n"
     ]
    },
    {
     "data": {
      "image/png": "[encoded data removed]",
      "text/plain": [
       "<Figure size 432x288 with 1 Axes>"
      ]
     },
     "metadata": {
      "needs_background": "light"
     },
     "output_type": "display_data"
    },
    {
     "name": "stdout",
     "output_type": "stream",
     "text": [
      "神經網路判斷為: [6]\n"
     ]
    },
    {
     "data": {
      "image/png": "[encoded data removed]",
      "text/plain": [
       "<Figure size 432x288 with 1 Axes>"
      ]
     },
     "metadata": {
      "needs_background": "light"
     },
     "output_type": "display_data"
    },
    {
     "name": "stdout",
     "output_type": "stream",
     "text": [
      "神經網路判斷為: [6]\n"
     ]
    },
    {
     "data": {
      "image/png": "[encoded data removed]",
      "text/plain": [
       "<Figure size 432x288 with 1 Axes>"
      ]
     },
     "metadata": {
      "needs_background": "light"
     },
     "output_type": "display_data"
    },
    {
     "name": "stdout",
     "output_type": "stream",
     "text": [
      "神經網路判斷為: [7]\n"
     ]
    },
    {
     "data": {
      "image/png": "[encoded data removed]",
      "text/plain": [
       "<Figure size 432x288 with 1 Axes>"
      ]
     },
     "metadata": {
      "needs_background": "light"
     },
     "output_type": "display_data"
    },
    {
     "name": "stdout",
     "output_type": "stream",
     "text": [
      "神經網路判斷為: [7]\n"
     ]
    },
    {
     "data": {
      "image/png": "[encoded data removed]",
      "text/plain": [
       "<Figure size 432x288 with 1 Axes>"
      ]
     },
     "metadata": {
      "needs_background": "light"
     },
     "output_type": "display_data"
    },
    {
     "name": "stdout",
     "output_type": "stream",
     "text": [
      "神經網路判斷為: [8]\n"
     ]
    },
    {
     "data": {
      "image/png": "[encoded data removed]",
      "text/plain": [
       "<Figure size 432x288 with 1 Axes>"
      ]
     },
     "metadata": {
      "needs_background": "light"
     },
     "output_type": "display_data"
    },
    {
     "name": "stdout",
     "output_type": "stream",
     "text": [
      "神經網路判斷為: [1]\n"
     ]
    },
    {
     "data": {
      "image/png": "[encoded data removed]",
      "text/plain": [
       "<Figure size 432x288 with 1 Axes>"
      ]
     },
     "metadata": {
      "needs_background": "light"
     },
     "output_type": "display_data"
    },
    {
     "name": "stdout",
     "output_type": "stream",
     "text": [
      "神經網路判斷為: [9]\n"
     ]
    },
    {
     "data": {
      "image/png": "[encoded data removed]",
      "text/plain": [
       "<Figure size 432x288 with 1 Axes>"
      ]
     },
     "metadata": {
      "needs_background": "light"
     },
     "output_type": "display_data"
    },
    {
     "name": "stdout",
     "output_type": "stream",
     "text": [
      "神經網路判斷為: [9]\n"
     ]
    }
   ],
   "source": [
    "#14/20\n",
    "for i in range(20):\n",
    "    plt.imshow(im_arr[i].reshape(28,28),cmap='Greys')\n",
    "    plt.show()\n",
    "    print('神經網路判斷為:',model3.predict_classes(im_arr[i]))"
   ]
  },
  {
   "cell_type": "code",
   "execution_count": 39,
   "metadata": {
    "scrolled": true
   },
   "outputs": [
    {
     "data": {
      "image/png": "[encoded data removed]",
      "text/plain": [
       "<Figure size 432x288 with 1 Axes>"
      ]
     },
     "metadata": {
      "needs_background": "light"
     },
     "output_type": "display_data"
    },
    {
     "name": "stdout",
     "output_type": "stream",
     "text": [
      "神經網路判斷為: [0]\n"
     ]
    },
    {
     "data": {
      "image/png": "[encoded data removed]",
      "text/plain": [
       "<Figure size 432x288 with 1 Axes>"
      ]
     },
     "metadata": {
      "needs_background": "light"
     },
     "output_type": "display_data"
    },
    {
     "name": "stdout",
     "output_type": "stream",
     "text": [
      "神經網路判斷為: [0]\n"
     ]
    },
    {
     "data": {
      "image/png": "[encoded data removed]",
      "text/plain": [
       "<Figure size 432x288 with 1 Axes>"
      ]
     },
     "metadata": {
      "needs_background": "light"
     },
     "output_type": "display_data"
    },
    {
     "name": "stdout",
     "output_type": "stream",
     "text": [
      "神經網路判斷為: [1]\n"
     ]
    },
    {
     "data": {
      "image/png": "[encoded data removed]",
      "text/plain": [
       "<Figure size 432x288 with 1 Axes>"
      ]
     },
     "metadata": {
      "needs_background": "light"
     },
     "output_type": "display_data"
    },
    {
     "name": "stdout",
     "output_type": "stream",
     "text": [
      "神經網路判斷為: [1]\n"
     ]
    },
    {
     "data": {
      "image/png": "[encoded data removed]",
      "text/plain": [
       "<Figure size 432x288 with 1 Axes>"
      ]
     },
     "metadata": {
      "needs_background": "light"
     },
     "output_type": "display_data"
    },
    {
     "name": "stdout",
     "output_type": "stream",
     "text": [
      "神經網路判斷為: [2]\n"
     ]
    },
    {
     "data": {
      "image/png": "[encoded data removed]",
      "text/plain": [
       "<Figure size 432x288 with 1 Axes>"
      ]
     },
     "metadata": {
      "needs_background": "light"
     },
     "output_type": "display_data"
    },
    {
     "name": "stdout",
     "output_type": "stream",
     "text": [
      "神經網路判斷為: [2]\n"
     ]
    },
    {
     "data": {
      "image/png": "[encoded data removed]",
      "text/plain": [
       "<Figure size 432x288 with 1 Axes>"
      ]
     },
     "metadata": {
      "needs_background": "light"
     },
     "output_type": "display_data"
    },
    {
     "name": "stdout",
     "output_type": "stream",
     "text": [
      "神經網路判斷為: [3]\n"
     ]
    },
    {
     "data": {
      "image/png": "[encoded data removed]",
      "text/plain": [
       "<Figure size 432x288 with 1 Axes>"
      ]
     },
     "metadata": {
      "needs_background": "light"
     },
     "output_type": "display_data"
    },
    {
     "name": "stdout",
     "output_type": "stream",
     "text": [
      "神經網路判斷為: [3]\n"
     ]
    },
    {
     "data": {
      "image/png": "[encoded data removed]",
      "text/plain": [
       "<Figure size 432x288 with 1 Axes>"
      ]
     },
     "metadata": {
      "needs_background": "light"
     },
     "output_type": "display_data"
    },
    {
     "name": "stdout",
     "output_type": "stream",
     "text": [
      "神經網路判斷為: [4]\n"
     ]
    },
    {
     "data": {
      "image/png": "[encoded data removed]",
      "text/plain": [
       "<Figure size 432x288 with 1 Axes>"
      ]
     },
     "metadata": {
      "needs_background": "light"
     },
     "output_type": "display_data"
    },
    {
     "name": "stdout",
     "output_type": "stream",
     "text": [
      "神經網路判斷為: [4]\n"
     ]
    },
    {
     "data": {
      "image/png": "[encoded data removed]",
      "text/plain": [
       "<Figure size 432x288 with 1 Axes>"
      ]
     },
     "metadata": {
      "needs_background": "light"
     },
     "output_type": "display_data"
    },
    {
     "name": "stdout",
     "output_type": "stream",
     "text": [
      "神經網路判斷為: [5]\n"
     ]
    },
    {
     "data": {
      "image/png": "[encoded data removed]",
      "text/plain": [
       "<Figure size 432x288 with 1 Axes>"
      ]
     },
     "metadata": {
      "needs_background": "light"
     },
     "output_type": "display_data"
    },
    {
     "name": "stdout",
     "output_type": "stream",
     "text": [
      "神經網路判斷為: [4]\n"
     ]
    },
    {
     "data": {
      "image/png": "[encoded data removed]",
      "text/plain": [
       "<Figure size 432x288 with 1 Axes>"
      ]
     },
     "metadata": {
      "needs_background": "light"
     },
     "output_type": "display_data"
    },
    {
     "name": "stdout",
     "output_type": "stream",
     "text": [
      "神經網路判斷為: [6]\n"
     ]
    },
    {
     "data": {
      "image/png": "[encoded data removed]",
      "text/plain": [
       "<Figure size 432x288 with 1 Axes>"
      ]
     },
     "metadata": {
      "needs_background": "light"
     },
     "output_type": "display_data"
    },
    {
     "name": "stdout",
     "output_type": "stream",
     "text": [
      "神經網路判斷為: [6]\n"
     ]
    },
    {
     "data": {
      "image/png": "[encoded data removed]",
      "text/plain": [
       "<Figure size 432x288 with 1 Axes>"
      ]
     },
     "metadata": {
      "needs_background": "light"
     },
     "output_type": "display_data"
    },
    {
     "name": "stdout",
     "output_type": "stream",
     "text": [
      "神經網路判斷為: [7]\n"
     ]
    },
    {
     "data": {
      "image/png": "[encoded data removed]",
      "text/plain": [
       "<Figure size 432x288 with 1 Axes>"
      ]
     },
     "metadata": {
      "needs_background": "light"
     },
     "output_type": "display_data"
    },
    {
     "name": "stdout",
     "output_type": "stream",
     "text": [
      "神經網路判斷為: [2]\n"
     ]
    },
    {
     "data": {
      "image/png": "[encoded data removed]",
      "text/plain": [
       "<Figure size 432x288 with 1 Axes>"
      ]
     },
     "metadata": {
      "needs_background": "light"
     },
     "output_type": "display_data"
    },
    {
     "name": "stdout",
     "output_type": "stream",
     "text": [
      "神經網路判斷為: [3]\n"
     ]
    },
    {
     "data": {
      "image/png": "[encoded data removed]",
      "text/plain": [
       "<Figure size 432x288 with 1 Axes>"
      ]
     },
     "metadata": {
      "needs_background": "light"
     },
     "output_type": "display_data"
    },
    {
     "name": "stdout",
     "output_type": "stream",
     "text": [
      "神經網路判斷為: [8]\n"
     ]
    },
    {
     "data": {
      "image/png": "[encoded data removed]",
      "text/plain": [
       "<Figure size 432x288 with 1 Axes>"
      ]
     },
     "metadata": {
      "needs_background": "light"
     },
     "output_type": "display_data"
    },
    {
     "name": "stdout",
     "output_type": "stream",
     "text": [
      "神經網路判斷為: [9]\n"
     ]
    },
    {
     "data": {
      "image/png": "[encoded data removed]",
      "text/plain": [
       "<Figure size 432x288 with 1 Axes>"
      ]
     },
     "metadata": {
      "needs_background": "light"
     },
     "output_type": "display_data"
    },
    {
     "name": "stdout",
     "output_type": "stream",
     "text": [
      "神經網路判斷為: [9]\n"
     ]
    }
   ],
   "source": [
    "#17/20\n",
    "for i in range(20):\n",
    "    plt.imshow(im_arr[i].reshape(28,28),cmap='Greys')\n",
    "    plt.show()\n",
    "    print('神經網路判斷為:',model4.predict_classes(im_arr[i]))"
   ]
  },
  {
   "cell_type": "markdown",
   "metadata": {},
   "source": [
    "# 將訓練好的神經網路存起來"
   ]
  },
  {
   "cell_type": "code",
   "execution_count": 123,
   "metadata": {},
   "outputs": [],
   "source": [
    "#model_json = model.to_json()\n",
    "#open('hand_writing.json', 'w').write(model_json)\n",
    "#model.save('hand_writing_model.h5')\n",
    "#model2.save('hand_writing_model2.h5')\n",
    "model3.save('hand_writing_model3.h5')\n",
    "model4.save('hand_writing_model4.h5')"
   ]
  },
  {
   "cell_type": "code",
   "execution_count": 15,
   "metadata": {},
   "outputs": [],
   "source": [
    "from keras.models import load_model"
   ]
  },
  {
   "cell_type": "code",
   "execution_count": 17,
   "metadata": {},
   "outputs": [],
   "source": [
    "model3 = load_model('hand_writing_model3.h5')\n",
    "model4 = load_model('hand_writing_model4.h5')"
   ]
  },
  {
   "cell_type": "code",
   "execution_count": 71,
   "metadata": {
    "scrolled": false
   },
   "outputs": [
    {
     "data": {
      "image/png": "[encoded data removed]",
      "text/plain": [
       "<Figure size 432x288 with 1 Axes>"
      ]
     },
     "metadata": {
      "needs_background": "light"
     },
     "output_type": "display_data"
    },
    {
     "ename": "NameError",
     "evalue": "name 'model_test' is not defined",
     "output_type": "error",
     "traceback": [
      "\u001b[1;31m---------------------------------------------------------------------------\u001b[0m",
      "\u001b[1;31mNameError\u001b[0m                                 Traceback (most recent call last)",
      "\u001b[1;32m<ipython-input-71-327e90f2c263>\u001b[0m in \u001b[0;36m<module>\u001b[1;34m\u001b[0m\n\u001b[0;32m      3\u001b[0m     \u001b[0mplt\u001b[0m\u001b[1;33m.\u001b[0m\u001b[0mimshow\u001b[0m\u001b[1;33m(\u001b[0m\u001b[0mim_arr\u001b[0m\u001b[1;33m[\u001b[0m\u001b[0mi\u001b[0m\u001b[1;33m]\u001b[0m\u001b[1;33m.\u001b[0m\u001b[0mreshape\u001b[0m\u001b[1;33m(\u001b[0m\u001b[1;36m28\u001b[0m\u001b[1;33m,\u001b[0m\u001b[1;36m28\u001b[0m\u001b[1;33m)\u001b[0m\u001b[1;33m,\u001b[0m\u001b[0mcmap\u001b[0m\u001b[1;33m=\u001b[0m\u001b[1;34m'Greys'\u001b[0m\u001b[1;33m)\u001b[0m\u001b[1;33m\u001b[0m\u001b[1;33m\u001b[0m\u001b[0m\n\u001b[0;32m      4\u001b[0m     \u001b[0mplt\u001b[0m\u001b[1;33m.\u001b[0m\u001b[0mshow\u001b[0m\u001b[1;33m(\u001b[0m\u001b[1;33m)\u001b[0m\u001b[1;33m\u001b[0m\u001b[1;33m\u001b[0m\u001b[0m\n\u001b[1;32m----> 5\u001b[1;33m     \u001b[0mprint\u001b[0m\u001b[1;33m(\u001b[0m\u001b[1;34m'神經網路判斷為:'\u001b[0m\u001b[1;33m,\u001b[0m\u001b[0mmodel_test\u001b[0m\u001b[1;33m.\u001b[0m\u001b[0mpredict_classes\u001b[0m\u001b[1;33m(\u001b[0m\u001b[0mim_arr\u001b[0m\u001b[1;33m[\u001b[0m\u001b[0mi\u001b[0m\u001b[1;33m]\u001b[0m\u001b[1;33m)\u001b[0m\u001b[1;33m)\u001b[0m\u001b[1;33m\u001b[0m\u001b[1;33m\u001b[0m\u001b[0m\n\u001b[0m",
      "\u001b[1;31mNameError\u001b[0m: name 'model_test' is not defined"
     ]
    }
   ],
   "source": [
    "#19/20\n",
    "for i in range(20):\n",
    "    plt.imshow(im_arr[i].reshape(28,28),cmap='Greys')\n",
    "    plt.show()\n",
    "    print('神經網路判斷為:',model_test.predict_classes(im_arr[i]))"
   ]
  },
  {
   "cell_type": "code",
   "execution_count": null,
   "metadata": {},
   "outputs": [],
   "source": []
  }
 ],
 "metadata": {
  "kernelspec": {
   "display_name": "Python 3",
   "language": "python",
   "name": "python3"
  },
  "language_info": {
   "codemirror_mode": {
    "name": "ipython",
    "version": 3
   },
   "file_extension": ".py",
   "mimetype": "text/x-python",
   "name": "python",
   "nbconvert_exporter": "python",
   "pygments_lexer": "ipython3",
   "version": "3.6.9"
  }
 },
 "nbformat": 4,
 "nbformat_minor": 2
}
